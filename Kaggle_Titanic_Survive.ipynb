{
 "cells": [
  {
   "cell_type": "markdown",
   "metadata": {
    "colab_type": "text",
    "id": "QXgnzsd_H2RG"
   },
   "source": [
    "# Import Library"
   ]
  },
  {
   "cell_type": "code",
   "execution_count": 1,
   "metadata": {
    "colab": {
     "base_uri": "https://localhost:8080/",
     "height": 17
    },
    "colab_type": "code",
    "id": "p5WOPHmfH5ha",
    "outputId": "fb5c5017-02a4-464a-cf86-f52ef329fccc"
   },
   "outputs": [
    {
     "data": {
      "text/html": [
       "<script type=\"text/javascript\">window.PlotlyConfig = {MathJaxConfig: 'local'};</script><script type=\"text/javascript\">if (window.MathJax) {MathJax.Hub.Config({SVG: {font: \"STIX-Web\"}});}</script><script>requirejs.config({paths: { 'plotly': ['https://cdn.plot.ly/plotly-latest.min']},});if(!window._Plotly) {require(['plotly'],function(plotly) {window._Plotly=plotly;});}</script>"
      ],
      "text/vnd.plotly.v1+html": [
       "<script type=\"text/javascript\">window.PlotlyConfig = {MathJaxConfig: 'local'};</script><script type=\"text/javascript\">if (window.MathJax) {MathJax.Hub.Config({SVG: {font: \"STIX-Web\"}});}</script><script>requirejs.config({paths: { 'plotly': ['https://cdn.plot.ly/plotly-latest.min']},});if(!window._Plotly) {require(['plotly'],function(plotly) {window._Plotly=plotly;});}</script>"
      ]
     },
     "metadata": {},
     "output_type": "display_data"
    }
   ],
   "source": [
    "import pandas as pd\n",
    "import numpy as np\n",
    "import sys\n",
    "import os\n",
    "import random\n",
    "from pathlib import Path\n",
    "import matplotlib.pyplot as plt\n",
    "import seaborn as sns\n",
    "import plotly.graph_objs as go\n",
    "import plotly.figure_factory as ff\n",
    "from plotly import tools\n",
    "from plotly.offline import download_plotlyjs, init_notebook_mode, plot, iplot\n",
    "init_notebook_mode(connected=True)\n",
    "from sklearn.model_selection import train_test_split, KFold, GridSearchCV\n",
    "from sklearn import metrics\n",
    "from sklearn.metrics import roc_auc_score\n",
    "from sklearn.ensemble import RandomForestClassifier"
   ]
  },
  {
   "cell_type": "code",
   "execution_count": 2,
   "metadata": {
    "colab": {},
    "colab_type": "code",
    "id": "UDC3pPyKJDOy"
   },
   "outputs": [],
   "source": [
    "def enable_plotly_in_cell():\n",
    "  import IPython\n",
    "  from plotly.offline import init_notebook_mode\n",
    "  display(IPython.core.display.HTML('''<script src=\"/static/components/requirejs/require.js\"></script>'''))\n",
    "  init_notebook_mode(connected=False)"
   ]
  },
  {
   "cell_type": "markdown",
   "metadata": {
    "colab_type": "text",
    "id": "N4VFpiuIHZiA"
   },
   "source": [
    "# Load Data"
   ]
  },
  {
   "cell_type": "code",
   "execution_count": 3,
   "metadata": {
    "colab": {},
    "colab_type": "code",
    "id": "ZPlinxHGGWp6"
   },
   "outputs": [],
   "source": [
    "train_df = pd.read_csv(\"train.csv\")\n",
    "test_df = pd.read_csv(\"test.csv\")"
   ]
  },
  {
   "cell_type": "markdown",
   "metadata": {
    "colab_type": "text",
    "id": "gkiYoH_jHfVv"
   },
   "source": [
    "# Data Exploration"
   ]
  },
  {
   "cell_type": "code",
   "execution_count": 4,
   "metadata": {
    "colab": {
     "base_uri": "https://localhost:8080/",
     "height": 421
    },
    "colab_type": "code",
    "id": "sxz9WhioHely",
    "outputId": "dbe29be6-04f2-4706-c598-ee4384faf412"
   },
   "outputs": [
    {
     "data": {
      "text/html": [
       "<div>\n",
       "<style scoped>\n",
       "    .dataframe tbody tr th:only-of-type {\n",
       "        vertical-align: middle;\n",
       "    }\n",
       "\n",
       "    .dataframe tbody tr th {\n",
       "        vertical-align: top;\n",
       "    }\n",
       "\n",
       "    .dataframe thead th {\n",
       "        text-align: right;\n",
       "    }\n",
       "</style>\n",
       "<table border=\"1\" class=\"dataframe\">\n",
       "  <thead>\n",
       "    <tr style=\"text-align: right;\">\n",
       "      <th></th>\n",
       "      <th>Total</th>\n",
       "      <th>Percent</th>\n",
       "    </tr>\n",
       "  </thead>\n",
       "  <tbody>\n",
       "    <tr>\n",
       "      <th>Cabin</th>\n",
       "      <td>687</td>\n",
       "      <td>77.104377</td>\n",
       "    </tr>\n",
       "    <tr>\n",
       "      <th>Age</th>\n",
       "      <td>177</td>\n",
       "      <td>19.865320</td>\n",
       "    </tr>\n",
       "    <tr>\n",
       "      <th>Embarked</th>\n",
       "      <td>2</td>\n",
       "      <td>0.224467</td>\n",
       "    </tr>\n",
       "    <tr>\n",
       "      <th>Fare</th>\n",
       "      <td>0</td>\n",
       "      <td>0.000000</td>\n",
       "    </tr>\n",
       "    <tr>\n",
       "      <th>Ticket</th>\n",
       "      <td>0</td>\n",
       "      <td>0.000000</td>\n",
       "    </tr>\n",
       "    <tr>\n",
       "      <th>Parch</th>\n",
       "      <td>0</td>\n",
       "      <td>0.000000</td>\n",
       "    </tr>\n",
       "    <tr>\n",
       "      <th>SibSp</th>\n",
       "      <td>0</td>\n",
       "      <td>0.000000</td>\n",
       "    </tr>\n",
       "    <tr>\n",
       "      <th>Sex</th>\n",
       "      <td>0</td>\n",
       "      <td>0.000000</td>\n",
       "    </tr>\n",
       "    <tr>\n",
       "      <th>Name</th>\n",
       "      <td>0</td>\n",
       "      <td>0.000000</td>\n",
       "    </tr>\n",
       "    <tr>\n",
       "      <th>Pclass</th>\n",
       "      <td>0</td>\n",
       "      <td>0.000000</td>\n",
       "    </tr>\n",
       "    <tr>\n",
       "      <th>Survived</th>\n",
       "      <td>0</td>\n",
       "      <td>0.000000</td>\n",
       "    </tr>\n",
       "    <tr>\n",
       "      <th>PassengerId</th>\n",
       "      <td>0</td>\n",
       "      <td>0.000000</td>\n",
       "    </tr>\n",
       "  </tbody>\n",
       "</table>\n",
       "</div>"
      ],
      "text/plain": [
       "             Total    Percent\n",
       "Cabin          687  77.104377\n",
       "Age            177  19.865320\n",
       "Embarked         2   0.224467\n",
       "Fare             0   0.000000\n",
       "Ticket           0   0.000000\n",
       "Parch            0   0.000000\n",
       "SibSp            0   0.000000\n",
       "Sex              0   0.000000\n",
       "Name             0   0.000000\n",
       "Pclass           0   0.000000\n",
       "Survived         0   0.000000\n",
       "PassengerId      0   0.000000"
      ]
     },
     "execution_count": 4,
     "metadata": {},
     "output_type": "execute_result"
    }
   ],
   "source": [
    "def missing_data(data):\n",
    "    total = data.isnull().sum().sort_values(ascending = False)\n",
    "    percent = (data.isnull().sum()/data.isnull().count()*100).sort_values(ascending = False)\n",
    "    return pd.concat([total, percent], axis=1, keys=['Total', 'Percent'])\n",
    "missing_data(train_df)"
   ]
  },
  {
   "cell_type": "code",
   "execution_count": 5,
   "metadata": {
    "colab": {
     "base_uri": "https://localhost:8080/",
     "height": 390
    },
    "colab_type": "code",
    "id": "P1lChL85JckO",
    "outputId": "38691c7b-cec3-4672-eead-514a96ea5317"
   },
   "outputs": [
    {
     "data": {
      "text/html": [
       "<div>\n",
       "<style scoped>\n",
       "    .dataframe tbody tr th:only-of-type {\n",
       "        vertical-align: middle;\n",
       "    }\n",
       "\n",
       "    .dataframe tbody tr th {\n",
       "        vertical-align: top;\n",
       "    }\n",
       "\n",
       "    .dataframe thead th {\n",
       "        text-align: right;\n",
       "    }\n",
       "</style>\n",
       "<table border=\"1\" class=\"dataframe\">\n",
       "  <thead>\n",
       "    <tr style=\"text-align: right;\">\n",
       "      <th></th>\n",
       "      <th>Total</th>\n",
       "      <th>Percent</th>\n",
       "    </tr>\n",
       "  </thead>\n",
       "  <tbody>\n",
       "    <tr>\n",
       "      <th>Cabin</th>\n",
       "      <td>327</td>\n",
       "      <td>78.229665</td>\n",
       "    </tr>\n",
       "    <tr>\n",
       "      <th>Age</th>\n",
       "      <td>86</td>\n",
       "      <td>20.574163</td>\n",
       "    </tr>\n",
       "    <tr>\n",
       "      <th>Fare</th>\n",
       "      <td>1</td>\n",
       "      <td>0.239234</td>\n",
       "    </tr>\n",
       "    <tr>\n",
       "      <th>Embarked</th>\n",
       "      <td>0</td>\n",
       "      <td>0.000000</td>\n",
       "    </tr>\n",
       "    <tr>\n",
       "      <th>Ticket</th>\n",
       "      <td>0</td>\n",
       "      <td>0.000000</td>\n",
       "    </tr>\n",
       "    <tr>\n",
       "      <th>Parch</th>\n",
       "      <td>0</td>\n",
       "      <td>0.000000</td>\n",
       "    </tr>\n",
       "    <tr>\n",
       "      <th>SibSp</th>\n",
       "      <td>0</td>\n",
       "      <td>0.000000</td>\n",
       "    </tr>\n",
       "    <tr>\n",
       "      <th>Sex</th>\n",
       "      <td>0</td>\n",
       "      <td>0.000000</td>\n",
       "    </tr>\n",
       "    <tr>\n",
       "      <th>Name</th>\n",
       "      <td>0</td>\n",
       "      <td>0.000000</td>\n",
       "    </tr>\n",
       "    <tr>\n",
       "      <th>Pclass</th>\n",
       "      <td>0</td>\n",
       "      <td>0.000000</td>\n",
       "    </tr>\n",
       "    <tr>\n",
       "      <th>PassengerId</th>\n",
       "      <td>0</td>\n",
       "      <td>0.000000</td>\n",
       "    </tr>\n",
       "  </tbody>\n",
       "</table>\n",
       "</div>"
      ],
      "text/plain": [
       "             Total    Percent\n",
       "Cabin          327  78.229665\n",
       "Age             86  20.574163\n",
       "Fare             1   0.239234\n",
       "Embarked         0   0.000000\n",
       "Ticket           0   0.000000\n",
       "Parch            0   0.000000\n",
       "SibSp            0   0.000000\n",
       "Sex              0   0.000000\n",
       "Name             0   0.000000\n",
       "Pclass           0   0.000000\n",
       "PassengerId      0   0.000000"
      ]
     },
     "execution_count": 5,
     "metadata": {},
     "output_type": "execute_result"
    }
   ],
   "source": [
    "missing_data(test_df)"
   ]
  },
  {
   "cell_type": "code",
   "execution_count": 6,
   "metadata": {
    "colab": {},
    "colab_type": "code",
    "id": "x59mCBPgJgKQ"
   },
   "outputs": [],
   "source": [
    "def get_categories(data, val):\n",
    "    tmp = data[val].value_counts()\n",
    "    return pd.DataFrame(data={'Number': tmp.values}, index=tmp.index).reset_index()"
   ]
  },
  {
   "cell_type": "code",
   "execution_count": 7,
   "metadata": {
    "colab": {},
    "colab_type": "code",
    "id": "SanEWeg0JoCE"
   },
   "outputs": [],
   "source": [
    "def get_survived_categories(data, val):\n",
    "    tmp = data.groupby('Survived')[val].value_counts()\n",
    "    return pd.DataFrame(data={'Number': tmp.values}, index=tmp.index).reset_index()"
   ]
  },
  {
   "cell_type": "code",
   "execution_count": 8,
   "metadata": {
    "colab": {},
    "colab_type": "code",
    "id": "Zl4yOpmWJ5iu"
   },
   "outputs": [],
   "source": [
    "def draw_trace_bar(data_df,color='Blue'):\n",
    "    trace = go.Bar(\n",
    "            x = data_df['index'],\n",
    "            y = data_df['Number'],\n",
    "            marker=dict(color=color),\n",
    "            text=data_df['index']\n",
    "        )\n",
    "    return trace"
   ]
  },
  {
   "cell_type": "code",
   "execution_count": 9,
   "metadata": {
    "colab": {},
    "colab_type": "code",
    "id": "-BMwP1bMJqWa"
   },
   "outputs": [],
   "source": [
    "def plot_two_bar(data_df1, data_df2, title1, title2, xlab, ylab):\n",
    "    trace1 = draw_trace_bar(data_df1, color='Blue')\n",
    "    trace2 = draw_trace_bar(data_df2, color='Lightblue')\n",
    "    \n",
    "    fig = tools.make_subplots(rows=1,cols=2, subplot_titles=(title1,title2))\n",
    "    fig.append_trace(trace1,1,1)\n",
    "    fig.append_trace(trace2,1,2)\n",
    "    \n",
    "    fig['layout']['xaxis'].update(title = xlab)\n",
    "    fig['layout']['xaxis2'].update(title = xlab)\n",
    "    fig['layout']['yaxis'].update(title = ylab)\n",
    "    fig['layout']['yaxis2'].update(title = ylab)\n",
    "    fig['layout'].update(showlegend=False)\n",
    "    \n",
    "\n",
    "    iplot(fig, filename='draw_trace')"
   ]
  },
  {
   "cell_type": "code",
   "execution_count": 10,
   "metadata": {
    "colab": {},
    "colab_type": "code",
    "id": "5x3EfFQVJsg3"
   },
   "outputs": [],
   "source": [
    "def plot_survived_bar(data_df, var, ytitle= 'Number of passengers',title= 'Number of survived and not survived passengers by {}'):\n",
    "    dfS = data_df[data_df['Survived']==1]\n",
    "    dfN = data_df[data_df['Survived']==0]\n",
    "\n",
    "    traceS = go.Bar(\n",
    "        x = dfS[var],y = dfS['Number'],\n",
    "        name='Survived',\n",
    "        marker=dict(color=\"Blue\"),\n",
    "        text=dfS['Number']\n",
    "    )\n",
    "    traceN = go.Bar(\n",
    "        x = dfN[var],y = dfN['Number'],\n",
    "        name='Not survived',\n",
    "        marker=dict(color=\"Red\"),\n",
    "        text=dfS['Number']\n",
    "    )\n",
    "    \n",
    "    data = [traceS, traceN]\n",
    "    layout = dict(title = title.format(var),\n",
    "          xaxis = dict(title = var, showticklabels=True), \n",
    "          yaxis = dict(title = ytitle),\n",
    "          hovermode = 'closest'\n",
    "    )\n",
    "    fig = dict(data=data, layout=layout)\n",
    "   \n",
    "    iplot(fig, filename='draw_trace')"
   ]
  },
  {
   "cell_type": "code",
   "execution_count": 11,
   "metadata": {
    "colab": {
     "base_uri": "https://localhost:8080/",
     "height": 593
    },
    "colab_type": "code",
    "id": "1xhHb5p7JvGl",
    "outputId": "df8e2b0e-a453-40a0-d7eb-58bdebc5118b"
   },
   "outputs": [
    {
     "name": "stdout",
     "output_type": "stream",
     "text": [
      "This is the format of your plot grid:\n",
      "[ (1,1) x1,y1 ]  [ (1,2) x2,y2 ]\n",
      "\n"
     ]
    },
    {
     "data": {
      "application/vnd.plotly.v1+json": {
       "config": {
        "linkText": "Export to plot.ly",
        "plotlyServerURL": "https://plot.ly",
        "showLink": false
       },
       "data": [
        {
         "marker": {
          "color": "Blue"
         },
         "text": [
          "male",
          "female"
         ],
         "type": "bar",
         "uid": "4875acae-788b-474a-a8f6-0e4427283110",
         "x": [
          "male",
          "female"
         ],
         "xaxis": "x",
         "y": [
          577,
          314
         ],
         "yaxis": "y"
        },
        {
         "marker": {
          "color": "Lightblue"
         },
         "text": [
          "male",
          "female"
         ],
         "type": "bar",
         "uid": "45d606e6-7696-4b1a-84f6-746629805268",
         "x": [
          "male",
          "female"
         ],
         "xaxis": "x2",
         "y": [
          266,
          152
         ],
         "yaxis": "y2"
        }
       ],
       "layout": {
        "annotations": [
         {
          "font": {
           "size": 16
          },
          "showarrow": false,
          "text": "Train data",
          "x": 0.225,
          "xanchor": "center",
          "xref": "paper",
          "y": 1,
          "yanchor": "bottom",
          "yref": "paper"
         },
         {
          "font": {
           "size": 16
          },
          "showarrow": false,
          "text": "Test data",
          "x": 0.775,
          "xanchor": "center",
          "xref": "paper",
          "y": 1,
          "yanchor": "bottom",
          "yref": "paper"
         }
        ],
        "showlegend": false,
        "xaxis": {
         "anchor": "y",
         "domain": [
          0,
          0.45
         ],
         "title": {
          "text": "Sex"
         }
        },
        "xaxis2": {
         "anchor": "y2",
         "domain": [
          0.55,
          1
         ],
         "title": {
          "text": "Sex"
         }
        },
        "yaxis": {
         "anchor": "x",
         "domain": [
          0,
          1
         ],
         "title": {
          "text": "Number of passengers"
         }
        },
        "yaxis2": {
         "anchor": "x2",
         "domain": [
          0,
          1
         ],
         "title": {
          "text": "Number of passengers"
         }
        }
       }
      },
      "text/html": [
       "<div id=\"4ab13b22-ae8d-4516-8eeb-7fb161b68934\" style=\"height: 525px; width: 100%;\" class=\"plotly-graph-div\"></div><script type=\"text/javascript\">require([\"plotly\"], function(Plotly) { window.PLOTLYENV=window.PLOTLYENV || {};window.PLOTLYENV.BASE_URL=\"https://plot.ly\";\n",
       "if (document.getElementById(\"4ab13b22-ae8d-4516-8eeb-7fb161b68934\")) {\n",
       "    Plotly.newPlot(\"4ab13b22-ae8d-4516-8eeb-7fb161b68934\", [{\"marker\": {\"color\": \"Blue\"}, \"text\": [\"male\", \"female\"], \"x\": [\"male\", \"female\"], \"y\": [577, 314], \"type\": \"bar\", \"uid\": \"4875acae-788b-474a-a8f6-0e4427283110\", \"xaxis\": \"x\", \"yaxis\": \"y\"}, {\"marker\": {\"color\": \"Lightblue\"}, \"text\": [\"male\", \"female\"], \"x\": [\"male\", \"female\"], \"y\": [266, 152], \"type\": \"bar\", \"uid\": \"45d606e6-7696-4b1a-84f6-746629805268\", \"xaxis\": \"x2\", \"yaxis\": \"y2\"}], {\"annotations\": [{\"font\": {\"size\": 16}, \"showarrow\": false, \"text\": \"Train data\", \"x\": 0.225, \"xanchor\": \"center\", \"xref\": \"paper\", \"y\": 1.0, \"yanchor\": \"bottom\", \"yref\": \"paper\"}, {\"font\": {\"size\": 16}, \"showarrow\": false, \"text\": \"Test data\", \"x\": 0.775, \"xanchor\": \"center\", \"xref\": \"paper\", \"y\": 1.0, \"yanchor\": \"bottom\", \"yref\": \"paper\"}], \"xaxis\": {\"anchor\": \"y\", \"domain\": [0.0, 0.45], \"title\": {\"text\": \"Sex\"}}, \"yaxis\": {\"anchor\": \"x\", \"domain\": [0.0, 1.0], \"title\": {\"text\": \"Number of passengers\"}}, \"xaxis2\": {\"anchor\": \"y2\", \"domain\": [0.55, 1.0], \"title\": {\"text\": \"Sex\"}}, \"yaxis2\": {\"anchor\": \"x2\", \"domain\": [0.0, 1.0], \"title\": {\"text\": \"Number of passengers\"}}, \"showlegend\": false}, {\"showLink\": false, \"linkText\": \"Export to plot.ly\", \"plotlyServerURL\": \"https://plot.ly\"}); \n",
       "}\n",
       "});</script><script type=\"text/javascript\">window.addEventListener(\"resize\", function(){if (document.getElementById(\"4ab13b22-ae8d-4516-8eeb-7fb161b68934\")) {window._Plotly.Plots.resize(document.getElementById(\"4ab13b22-ae8d-4516-8eeb-7fb161b68934\"));};})</script>"
      ],
      "text/vnd.plotly.v1+html": [
       "<div id=\"4ab13b22-ae8d-4516-8eeb-7fb161b68934\" style=\"height: 525px; width: 100%;\" class=\"plotly-graph-div\"></div><script type=\"text/javascript\">require([\"plotly\"], function(Plotly) { window.PLOTLYENV=window.PLOTLYENV || {};window.PLOTLYENV.BASE_URL=\"https://plot.ly\";\n",
       "if (document.getElementById(\"4ab13b22-ae8d-4516-8eeb-7fb161b68934\")) {\n",
       "    Plotly.newPlot(\"4ab13b22-ae8d-4516-8eeb-7fb161b68934\", [{\"marker\": {\"color\": \"Blue\"}, \"text\": [\"male\", \"female\"], \"x\": [\"male\", \"female\"], \"y\": [577, 314], \"type\": \"bar\", \"uid\": \"4875acae-788b-474a-a8f6-0e4427283110\", \"xaxis\": \"x\", \"yaxis\": \"y\"}, {\"marker\": {\"color\": \"Lightblue\"}, \"text\": [\"male\", \"female\"], \"x\": [\"male\", \"female\"], \"y\": [266, 152], \"type\": \"bar\", \"uid\": \"45d606e6-7696-4b1a-84f6-746629805268\", \"xaxis\": \"x2\", \"yaxis\": \"y2\"}], {\"annotations\": [{\"font\": {\"size\": 16}, \"showarrow\": false, \"text\": \"Train data\", \"x\": 0.225, \"xanchor\": \"center\", \"xref\": \"paper\", \"y\": 1.0, \"yanchor\": \"bottom\", \"yref\": \"paper\"}, {\"font\": {\"size\": 16}, \"showarrow\": false, \"text\": \"Test data\", \"x\": 0.775, \"xanchor\": \"center\", \"xref\": \"paper\", \"y\": 1.0, \"yanchor\": \"bottom\", \"yref\": \"paper\"}], \"xaxis\": {\"anchor\": \"y\", \"domain\": [0.0, 0.45], \"title\": {\"text\": \"Sex\"}}, \"yaxis\": {\"anchor\": \"x\", \"domain\": [0.0, 1.0], \"title\": {\"text\": \"Number of passengers\"}}, \"xaxis2\": {\"anchor\": \"y2\", \"domain\": [0.55, 1.0], \"title\": {\"text\": \"Sex\"}}, \"yaxis2\": {\"anchor\": \"x2\", \"domain\": [0.0, 1.0], \"title\": {\"text\": \"Number of passengers\"}}, \"showlegend\": false}, {\"showLink\": false, \"linkText\": \"Export to plot.ly\", \"plotlyServerURL\": \"https://plot.ly\"}); \n",
       "}\n",
       "});</script><script type=\"text/javascript\">window.addEventListener(\"resize\", function(){if (document.getElementById(\"4ab13b22-ae8d-4516-8eeb-7fb161b68934\")) {window._Plotly.Plots.resize(document.getElementById(\"4ab13b22-ae8d-4516-8eeb-7fb161b68934\"));};})</script>"
      ]
     },
     "metadata": {},
     "output_type": "display_data"
    }
   ],
   "source": [
    "plot_two_bar(get_categories(train_df,'Sex'), get_categories(test_df,'Sex'), \n",
    "             'Train data', 'Test data',\n",
    "             'Sex', 'Number of passengers')"
   ]
  },
  {
   "cell_type": "code",
   "execution_count": 12,
   "metadata": {
    "colab": {
     "base_uri": "https://localhost:8080/",
     "height": 542
    },
    "colab_type": "code",
    "id": "PDtmXT6HJxlX",
    "outputId": "2e3bf013-9e96-47a9-c2ef-a5f56c3df56a"
   },
   "outputs": [
    {
     "data": {
      "application/vnd.plotly.v1+json": {
       "config": {
        "linkText": "Export to plot.ly",
        "plotlyServerURL": "https://plot.ly",
        "showLink": false
       },
       "data": [
        {
         "marker": {
          "color": "Blue"
         },
         "name": "Survived",
         "text": [
          233,
          109
         ],
         "type": "bar",
         "uid": "9252a0b0-0989-4ffb-8a4a-76e25529929e",
         "x": [
          "female",
          "male"
         ],
         "y": [
          233,
          109
         ]
        },
        {
         "marker": {
          "color": "Red"
         },
         "name": "Not survived",
         "text": [
          233,
          109
         ],
         "type": "bar",
         "uid": "2153b910-63af-449b-a9e9-89314c065648",
         "x": [
          "male",
          "female"
         ],
         "y": [
          468,
          81
         ]
        }
       ],
       "layout": {
        "hovermode": "closest",
        "title": {
         "text": "Number of survived and not survived passengers by Sex"
        },
        "xaxis": {
         "showticklabels": true,
         "title": {
          "text": "Sex"
         }
        },
        "yaxis": {
         "title": {
          "text": "Number of passengers"
         }
        }
       }
      },
      "text/html": [
       "<div id=\"28777222-1cce-4eb7-90e2-755fac72651b\" style=\"height: 525px; width: 100%;\" class=\"plotly-graph-div\"></div><script type=\"text/javascript\">require([\"plotly\"], function(Plotly) { window.PLOTLYENV=window.PLOTLYENV || {};window.PLOTLYENV.BASE_URL=\"https://plot.ly\";\n",
       "if (document.getElementById(\"28777222-1cce-4eb7-90e2-755fac72651b\")) {\n",
       "    Plotly.newPlot(\"28777222-1cce-4eb7-90e2-755fac72651b\", [{\"marker\": {\"color\": \"Blue\"}, \"name\": \"Survived\", \"text\": [233.0, 109.0], \"x\": [\"female\", \"male\"], \"y\": [233, 109], \"type\": \"bar\", \"uid\": \"58979dd4-37e6-44a4-9c43-5d8a87eaa7c6\"}, {\"marker\": {\"color\": \"Red\"}, \"name\": \"Not survived\", \"text\": [233.0, 109.0], \"x\": [\"male\", \"female\"], \"y\": [468, 81], \"type\": \"bar\", \"uid\": \"30d9e296-e9d9-4ab2-bb01-81cb95b3941c\"}], {\"hovermode\": \"closest\", \"title\": {\"text\": \"Number of survived and not survived passengers by Sex\"}, \"xaxis\": {\"showticklabels\": true, \"title\": {\"text\": \"Sex\"}}, \"yaxis\": {\"title\": {\"text\": \"Number of passengers\"}}}, {\"showLink\": false, \"linkText\": \"Export to plot.ly\", \"plotlyServerURL\": \"https://plot.ly\"}); \n",
       "}\n",
       "});</script><script type=\"text/javascript\">window.addEventListener(\"resize\", function(){if (document.getElementById(\"28777222-1cce-4eb7-90e2-755fac72651b\")) {window._Plotly.Plots.resize(document.getElementById(\"28777222-1cce-4eb7-90e2-755fac72651b\"));};})</script>"
      ],
      "text/vnd.plotly.v1+html": [
       "<div id=\"28777222-1cce-4eb7-90e2-755fac72651b\" style=\"height: 525px; width: 100%;\" class=\"plotly-graph-div\"></div><script type=\"text/javascript\">require([\"plotly\"], function(Plotly) { window.PLOTLYENV=window.PLOTLYENV || {};window.PLOTLYENV.BASE_URL=\"https://plot.ly\";\n",
       "if (document.getElementById(\"28777222-1cce-4eb7-90e2-755fac72651b\")) {\n",
       "    Plotly.newPlot(\"28777222-1cce-4eb7-90e2-755fac72651b\", [{\"marker\": {\"color\": \"Blue\"}, \"name\": \"Survived\", \"text\": [233.0, 109.0], \"x\": [\"female\", \"male\"], \"y\": [233, 109], \"type\": \"bar\", \"uid\": \"58979dd4-37e6-44a4-9c43-5d8a87eaa7c6\"}, {\"marker\": {\"color\": \"Red\"}, \"name\": \"Not survived\", \"text\": [233.0, 109.0], \"x\": [\"male\", \"female\"], \"y\": [468, 81], \"type\": \"bar\", \"uid\": \"30d9e296-e9d9-4ab2-bb01-81cb95b3941c\"}], {\"hovermode\": \"closest\", \"title\": {\"text\": \"Number of survived and not survived passengers by Sex\"}, \"xaxis\": {\"showticklabels\": true, \"title\": {\"text\": \"Sex\"}}, \"yaxis\": {\"title\": {\"text\": \"Number of passengers\"}}}, {\"showLink\": false, \"linkText\": \"Export to plot.ly\", \"plotlyServerURL\": \"https://plot.ly\"}); \n",
       "}\n",
       "});</script><script type=\"text/javascript\">window.addEventListener(\"resize\", function(){if (document.getElementById(\"28777222-1cce-4eb7-90e2-755fac72651b\")) {window._Plotly.Plots.resize(document.getElementById(\"28777222-1cce-4eb7-90e2-755fac72651b\"));};})</script>"
      ]
     },
     "metadata": {},
     "output_type": "display_data"
    }
   ],
   "source": [
    "plot_survived_bar(get_survived_categories(train_df,'Sex'), 'Sex')"
   ]
  },
  {
   "cell_type": "code",
   "execution_count": 13,
   "metadata": {
    "colab": {
     "base_uri": "https://localhost:8080/",
     "height": 593
    },
    "colab_type": "code",
    "id": "eVn-2LEzMuXf",
    "outputId": "0ff051a6-88c3-488e-938b-0a5b777b3bdf"
   },
   "outputs": [
    {
     "name": "stdout",
     "output_type": "stream",
     "text": [
      "This is the format of your plot grid:\n",
      "[ (1,1) x1,y1 ]  [ (1,2) x2,y2 ]\n",
      "\n"
     ]
    },
    {
     "data": {
      "application/vnd.plotly.v1+json": {
       "config": {
        "linkText": "Export to plot.ly",
        "plotlyServerURL": "https://plot.ly",
        "showLink": false
       },
       "data": [
        {
         "marker": {
          "color": "Blue"
         },
         "text": [
          24,
          22,
          18,
          19,
          30,
          28,
          21,
          25,
          36,
          29,
          32,
          27,
          35,
          26,
          16,
          31,
          20,
          33,
          23,
          34,
          39,
          17,
          42,
          40,
          45,
          38,
          50,
          2,
          4,
          47,
          44,
          48,
          54,
          9,
          1,
          51,
          52,
          14,
          3,
          49,
          41,
          37,
          15,
          43,
          58,
          11,
          62,
          60,
          8,
          56,
          5,
          46,
          65,
          7,
          6,
          61,
          55,
          28.5,
          71,
          59,
          63,
          0.83,
          30.5,
          70,
          57,
          0.75,
          13,
          10,
          64,
          40.5,
          32.5,
          45.5,
          20.5,
          24.5,
          0.67,
          14.5,
          0.92,
          74,
          34.5,
          80,
          12,
          36.5,
          53,
          55.5,
          70.5,
          66,
          23.5,
          0.42
         ],
         "type": "bar",
         "uid": "3e1df401-ab2c-46cc-a2f4-96183d5c3a10",
         "x": [
          24,
          22,
          18,
          19,
          30,
          28,
          21,
          25,
          36,
          29,
          32,
          27,
          35,
          26,
          16,
          31,
          20,
          33,
          23,
          34,
          39,
          17,
          42,
          40,
          45,
          38,
          50,
          2,
          4,
          47,
          44,
          48,
          54,
          9,
          1,
          51,
          52,
          14,
          3,
          49,
          41,
          37,
          15,
          43,
          58,
          11,
          62,
          60,
          8,
          56,
          5,
          46,
          65,
          7,
          6,
          61,
          55,
          28.5,
          71,
          59,
          63,
          0.83,
          30.5,
          70,
          57,
          0.75,
          13,
          10,
          64,
          40.5,
          32.5,
          45.5,
          20.5,
          24.5,
          0.67,
          14.5,
          0.92,
          74,
          34.5,
          80,
          12,
          36.5,
          53,
          55.5,
          70.5,
          66,
          23.5,
          0.42
         ],
         "xaxis": "x",
         "y": [
          30,
          27,
          26,
          25,
          25,
          25,
          24,
          23,
          22,
          20,
          18,
          18,
          18,
          18,
          17,
          17,
          15,
          15,
          15,
          15,
          14,
          13,
          13,
          13,
          12,
          11,
          10,
          10,
          10,
          9,
          9,
          9,
          8,
          8,
          7,
          7,
          6,
          6,
          6,
          6,
          6,
          6,
          5,
          5,
          5,
          4,
          4,
          4,
          4,
          4,
          4,
          3,
          3,
          3,
          3,
          3,
          2,
          2,
          2,
          2,
          2,
          2,
          2,
          2,
          2,
          2,
          2,
          2,
          2,
          2,
          2,
          2,
          1,
          1,
          1,
          1,
          1,
          1,
          1,
          1,
          1,
          1,
          1,
          1,
          1,
          1,
          1,
          1
         ],
         "yaxis": "y"
        },
        {
         "marker": {
          "color": "Lightblue"
         },
         "text": [
          24,
          21,
          22,
          30,
          18,
          27,
          26,
          25,
          23,
          29,
          36,
          45,
          20,
          17,
          28,
          32,
          31,
          55,
          33,
          39,
          35,
          41,
          47,
          40,
          50,
          42,
          48,
          19,
          43,
          1,
          49,
          6,
          13,
          60,
          53,
          18.5,
          46,
          64,
          38,
          57,
          37,
          10,
          61,
          32.5,
          2,
          16,
          12,
          9,
          54,
          8,
          63,
          14,
          22.5,
          62,
          0.83,
          67,
          28.5,
          0.33,
          0.17,
          38.5,
          3,
          51,
          5,
          44,
          14.5,
          59,
          58,
          0.75,
          0.92,
          36.5,
          40.5,
          11.5,
          34,
          15,
          7,
          60.5,
          26.5,
          76,
          34.5
         ],
         "type": "bar",
         "uid": "de102cb6-d1d8-4498-b11d-136673d450a7",
         "x": [
          24,
          21,
          22,
          30,
          18,
          27,
          26,
          25,
          23,
          29,
          36,
          45,
          20,
          17,
          28,
          32,
          31,
          55,
          33,
          39,
          35,
          41,
          47,
          40,
          50,
          42,
          48,
          19,
          43,
          1,
          49,
          6,
          13,
          60,
          53,
          18.5,
          46,
          64,
          38,
          57,
          37,
          10,
          61,
          32.5,
          2,
          16,
          12,
          9,
          54,
          8,
          63,
          14,
          22.5,
          62,
          0.83,
          67,
          28.5,
          0.33,
          0.17,
          38.5,
          3,
          51,
          5,
          44,
          14.5,
          59,
          58,
          0.75,
          0.92,
          36.5,
          40.5,
          11.5,
          34,
          15,
          7,
          60.5,
          26.5,
          76,
          34.5
         ],
         "xaxis": "x2",
         "y": [
          17,
          17,
          16,
          15,
          13,
          12,
          12,
          11,
          11,
          10,
          9,
          9,
          8,
          7,
          7,
          6,
          6,
          6,
          6,
          6,
          5,
          5,
          5,
          5,
          5,
          5,
          5,
          4,
          4,
          3,
          3,
          3,
          3,
          3,
          3,
          3,
          3,
          3,
          3,
          3,
          3,
          2,
          2,
          2,
          2,
          2,
          2,
          2,
          2,
          2,
          2,
          2,
          1,
          1,
          1,
          1,
          1,
          1,
          1,
          1,
          1,
          1,
          1,
          1,
          1,
          1,
          1,
          1,
          1,
          1,
          1,
          1,
          1,
          1,
          1,
          1,
          1,
          1,
          1
         ],
         "yaxis": "y2"
        }
       ],
       "layout": {
        "annotations": [
         {
          "font": {
           "size": 16
          },
          "showarrow": false,
          "text": "Train data",
          "x": 0.225,
          "xanchor": "center",
          "xref": "paper",
          "y": 1,
          "yanchor": "bottom",
          "yref": "paper"
         },
         {
          "font": {
           "size": 16
          },
          "showarrow": false,
          "text": "Test data",
          "x": 0.775,
          "xanchor": "center",
          "xref": "paper",
          "y": 1,
          "yanchor": "bottom",
          "yref": "paper"
         }
        ],
        "showlegend": false,
        "xaxis": {
         "anchor": "y",
         "domain": [
          0,
          0.45
         ],
         "title": {
          "text": "Age"
         }
        },
        "xaxis2": {
         "anchor": "y2",
         "domain": [
          0.55,
          1
         ],
         "title": {
          "text": "Age"
         }
        },
        "yaxis": {
         "anchor": "x",
         "domain": [
          0,
          1
         ],
         "title": {
          "text": "Number of passengers"
         }
        },
        "yaxis2": {
         "anchor": "x2",
         "domain": [
          0,
          1
         ],
         "title": {
          "text": "Number of passengers"
         }
        }
       }
      },
      "text/html": [
       "<div id=\"2aa8d02a-f905-44f7-b0be-a25a50474c72\" style=\"height: 525px; width: 100%;\" class=\"plotly-graph-div\"></div><script type=\"text/javascript\">require([\"plotly\"], function(Plotly) { window.PLOTLYENV=window.PLOTLYENV || {};window.PLOTLYENV.BASE_URL=\"https://plot.ly\";\n",
       "if (document.getElementById(\"2aa8d02a-f905-44f7-b0be-a25a50474c72\")) {\n",
       "    Plotly.newPlot(\"2aa8d02a-f905-44f7-b0be-a25a50474c72\", [{\"marker\": {\"color\": \"Blue\"}, \"text\": [24.0, 22.0, 18.0, 19.0, 30.0, 28.0, 21.0, 25.0, 36.0, 29.0, 32.0, 27.0, 35.0, 26.0, 16.0, 31.0, 20.0, 33.0, 23.0, 34.0, 39.0, 17.0, 42.0, 40.0, 45.0, 38.0, 50.0, 2.0, 4.0, 47.0, 44.0, 48.0, 54.0, 9.0, 1.0, 51.0, 52.0, 14.0, 3.0, 49.0, 41.0, 37.0, 15.0, 43.0, 58.0, 11.0, 62.0, 60.0, 8.0, 56.0, 5.0, 46.0, 65.0, 7.0, 6.0, 61.0, 55.0, 28.5, 71.0, 59.0, 63.0, 0.83, 30.5, 70.0, 57.0, 0.75, 13.0, 10.0, 64.0, 40.5, 32.5, 45.5, 20.5, 24.5, 0.67, 14.5, 0.92, 74.0, 34.5, 80.0, 12.0, 36.5, 53.0, 55.5, 70.5, 66.0, 23.5, 0.42], \"x\": [24.0, 22.0, 18.0, 19.0, 30.0, 28.0, 21.0, 25.0, 36.0, 29.0, 32.0, 27.0, 35.0, 26.0, 16.0, 31.0, 20.0, 33.0, 23.0, 34.0, 39.0, 17.0, 42.0, 40.0, 45.0, 38.0, 50.0, 2.0, 4.0, 47.0, 44.0, 48.0, 54.0, 9.0, 1.0, 51.0, 52.0, 14.0, 3.0, 49.0, 41.0, 37.0, 15.0, 43.0, 58.0, 11.0, 62.0, 60.0, 8.0, 56.0, 5.0, 46.0, 65.0, 7.0, 6.0, 61.0, 55.0, 28.5, 71.0, 59.0, 63.0, 0.83, 30.5, 70.0, 57.0, 0.75, 13.0, 10.0, 64.0, 40.5, 32.5, 45.5, 20.5, 24.5, 0.67, 14.5, 0.92, 74.0, 34.5, 80.0, 12.0, 36.5, 53.0, 55.5, 70.5, 66.0, 23.5, 0.42], \"y\": [30, 27, 26, 25, 25, 25, 24, 23, 22, 20, 18, 18, 18, 18, 17, 17, 15, 15, 15, 15, 14, 13, 13, 13, 12, 11, 10, 10, 10, 9, 9, 9, 8, 8, 7, 7, 6, 6, 6, 6, 6, 6, 5, 5, 5, 4, 4, 4, 4, 4, 4, 3, 3, 3, 3, 3, 2, 2, 2, 2, 2, 2, 2, 2, 2, 2, 2, 2, 2, 2, 2, 2, 1, 1, 1, 1, 1, 1, 1, 1, 1, 1, 1, 1, 1, 1, 1, 1], \"type\": \"bar\", \"uid\": \"3e1df401-ab2c-46cc-a2f4-96183d5c3a10\", \"xaxis\": \"x\", \"yaxis\": \"y\"}, {\"marker\": {\"color\": \"Lightblue\"}, \"text\": [24.0, 21.0, 22.0, 30.0, 18.0, 27.0, 26.0, 25.0, 23.0, 29.0, 36.0, 45.0, 20.0, 17.0, 28.0, 32.0, 31.0, 55.0, 33.0, 39.0, 35.0, 41.0, 47.0, 40.0, 50.0, 42.0, 48.0, 19.0, 43.0, 1.0, 49.0, 6.0, 13.0, 60.0, 53.0, 18.5, 46.0, 64.0, 38.0, 57.0, 37.0, 10.0, 61.0, 32.5, 2.0, 16.0, 12.0, 9.0, 54.0, 8.0, 63.0, 14.0, 22.5, 62.0, 0.83, 67.0, 28.5, 0.33, 0.17, 38.5, 3.0, 51.0, 5.0, 44.0, 14.5, 59.0, 58.0, 0.75, 0.92, 36.5, 40.5, 11.5, 34.0, 15.0, 7.0, 60.5, 26.5, 76.0, 34.5], \"x\": [24.0, 21.0, 22.0, 30.0, 18.0, 27.0, 26.0, 25.0, 23.0, 29.0, 36.0, 45.0, 20.0, 17.0, 28.0, 32.0, 31.0, 55.0, 33.0, 39.0, 35.0, 41.0, 47.0, 40.0, 50.0, 42.0, 48.0, 19.0, 43.0, 1.0, 49.0, 6.0, 13.0, 60.0, 53.0, 18.5, 46.0, 64.0, 38.0, 57.0, 37.0, 10.0, 61.0, 32.5, 2.0, 16.0, 12.0, 9.0, 54.0, 8.0, 63.0, 14.0, 22.5, 62.0, 0.83, 67.0, 28.5, 0.33, 0.17, 38.5, 3.0, 51.0, 5.0, 44.0, 14.5, 59.0, 58.0, 0.75, 0.92, 36.5, 40.5, 11.5, 34.0, 15.0, 7.0, 60.5, 26.5, 76.0, 34.5], \"y\": [17, 17, 16, 15, 13, 12, 12, 11, 11, 10, 9, 9, 8, 7, 7, 6, 6, 6, 6, 6, 5, 5, 5, 5, 5, 5, 5, 4, 4, 3, 3, 3, 3, 3, 3, 3, 3, 3, 3, 3, 3, 2, 2, 2, 2, 2, 2, 2, 2, 2, 2, 2, 1, 1, 1, 1, 1, 1, 1, 1, 1, 1, 1, 1, 1, 1, 1, 1, 1, 1, 1, 1, 1, 1, 1, 1, 1, 1, 1], \"type\": \"bar\", \"uid\": \"de102cb6-d1d8-4498-b11d-136673d450a7\", \"xaxis\": \"x2\", \"yaxis\": \"y2\"}], {\"annotations\": [{\"font\": {\"size\": 16}, \"showarrow\": false, \"text\": \"Train data\", \"x\": 0.225, \"xanchor\": \"center\", \"xref\": \"paper\", \"y\": 1.0, \"yanchor\": \"bottom\", \"yref\": \"paper\"}, {\"font\": {\"size\": 16}, \"showarrow\": false, \"text\": \"Test data\", \"x\": 0.775, \"xanchor\": \"center\", \"xref\": \"paper\", \"y\": 1.0, \"yanchor\": \"bottom\", \"yref\": \"paper\"}], \"xaxis\": {\"anchor\": \"y\", \"domain\": [0.0, 0.45], \"title\": {\"text\": \"Age\"}}, \"yaxis\": {\"anchor\": \"x\", \"domain\": [0.0, 1.0], \"title\": {\"text\": \"Number of passengers\"}}, \"xaxis2\": {\"anchor\": \"y2\", \"domain\": [0.55, 1.0], \"title\": {\"text\": \"Age\"}}, \"yaxis2\": {\"anchor\": \"x2\", \"domain\": [0.0, 1.0], \"title\": {\"text\": \"Number of passengers\"}}, \"showlegend\": false}, {\"showLink\": false, \"linkText\": \"Export to plot.ly\", \"plotlyServerURL\": \"https://plot.ly\"}); \n",
       "}\n",
       "});</script><script type=\"text/javascript\">window.addEventListener(\"resize\", function(){if (document.getElementById(\"2aa8d02a-f905-44f7-b0be-a25a50474c72\")) {window._Plotly.Plots.resize(document.getElementById(\"2aa8d02a-f905-44f7-b0be-a25a50474c72\"));};})</script>"
      ],
      "text/vnd.plotly.v1+html": [
       "<div id=\"2aa8d02a-f905-44f7-b0be-a25a50474c72\" style=\"height: 525px; width: 100%;\" class=\"plotly-graph-div\"></div><script type=\"text/javascript\">require([\"plotly\"], function(Plotly) { window.PLOTLYENV=window.PLOTLYENV || {};window.PLOTLYENV.BASE_URL=\"https://plot.ly\";\n",
       "if (document.getElementById(\"2aa8d02a-f905-44f7-b0be-a25a50474c72\")) {\n",
       "    Plotly.newPlot(\"2aa8d02a-f905-44f7-b0be-a25a50474c72\", [{\"marker\": {\"color\": \"Blue\"}, \"text\": [24.0, 22.0, 18.0, 19.0, 30.0, 28.0, 21.0, 25.0, 36.0, 29.0, 32.0, 27.0, 35.0, 26.0, 16.0, 31.0, 20.0, 33.0, 23.0, 34.0, 39.0, 17.0, 42.0, 40.0, 45.0, 38.0, 50.0, 2.0, 4.0, 47.0, 44.0, 48.0, 54.0, 9.0, 1.0, 51.0, 52.0, 14.0, 3.0, 49.0, 41.0, 37.0, 15.0, 43.0, 58.0, 11.0, 62.0, 60.0, 8.0, 56.0, 5.0, 46.0, 65.0, 7.0, 6.0, 61.0, 55.0, 28.5, 71.0, 59.0, 63.0, 0.83, 30.5, 70.0, 57.0, 0.75, 13.0, 10.0, 64.0, 40.5, 32.5, 45.5, 20.5, 24.5, 0.67, 14.5, 0.92, 74.0, 34.5, 80.0, 12.0, 36.5, 53.0, 55.5, 70.5, 66.0, 23.5, 0.42], \"x\": [24.0, 22.0, 18.0, 19.0, 30.0, 28.0, 21.0, 25.0, 36.0, 29.0, 32.0, 27.0, 35.0, 26.0, 16.0, 31.0, 20.0, 33.0, 23.0, 34.0, 39.0, 17.0, 42.0, 40.0, 45.0, 38.0, 50.0, 2.0, 4.0, 47.0, 44.0, 48.0, 54.0, 9.0, 1.0, 51.0, 52.0, 14.0, 3.0, 49.0, 41.0, 37.0, 15.0, 43.0, 58.0, 11.0, 62.0, 60.0, 8.0, 56.0, 5.0, 46.0, 65.0, 7.0, 6.0, 61.0, 55.0, 28.5, 71.0, 59.0, 63.0, 0.83, 30.5, 70.0, 57.0, 0.75, 13.0, 10.0, 64.0, 40.5, 32.5, 45.5, 20.5, 24.5, 0.67, 14.5, 0.92, 74.0, 34.5, 80.0, 12.0, 36.5, 53.0, 55.5, 70.5, 66.0, 23.5, 0.42], \"y\": [30, 27, 26, 25, 25, 25, 24, 23, 22, 20, 18, 18, 18, 18, 17, 17, 15, 15, 15, 15, 14, 13, 13, 13, 12, 11, 10, 10, 10, 9, 9, 9, 8, 8, 7, 7, 6, 6, 6, 6, 6, 6, 5, 5, 5, 4, 4, 4, 4, 4, 4, 3, 3, 3, 3, 3, 2, 2, 2, 2, 2, 2, 2, 2, 2, 2, 2, 2, 2, 2, 2, 2, 1, 1, 1, 1, 1, 1, 1, 1, 1, 1, 1, 1, 1, 1, 1, 1], \"type\": \"bar\", \"uid\": \"3e1df401-ab2c-46cc-a2f4-96183d5c3a10\", \"xaxis\": \"x\", \"yaxis\": \"y\"}, {\"marker\": {\"color\": \"Lightblue\"}, \"text\": [24.0, 21.0, 22.0, 30.0, 18.0, 27.0, 26.0, 25.0, 23.0, 29.0, 36.0, 45.0, 20.0, 17.0, 28.0, 32.0, 31.0, 55.0, 33.0, 39.0, 35.0, 41.0, 47.0, 40.0, 50.0, 42.0, 48.0, 19.0, 43.0, 1.0, 49.0, 6.0, 13.0, 60.0, 53.0, 18.5, 46.0, 64.0, 38.0, 57.0, 37.0, 10.0, 61.0, 32.5, 2.0, 16.0, 12.0, 9.0, 54.0, 8.0, 63.0, 14.0, 22.5, 62.0, 0.83, 67.0, 28.5, 0.33, 0.17, 38.5, 3.0, 51.0, 5.0, 44.0, 14.5, 59.0, 58.0, 0.75, 0.92, 36.5, 40.5, 11.5, 34.0, 15.0, 7.0, 60.5, 26.5, 76.0, 34.5], \"x\": [24.0, 21.0, 22.0, 30.0, 18.0, 27.0, 26.0, 25.0, 23.0, 29.0, 36.0, 45.0, 20.0, 17.0, 28.0, 32.0, 31.0, 55.0, 33.0, 39.0, 35.0, 41.0, 47.0, 40.0, 50.0, 42.0, 48.0, 19.0, 43.0, 1.0, 49.0, 6.0, 13.0, 60.0, 53.0, 18.5, 46.0, 64.0, 38.0, 57.0, 37.0, 10.0, 61.0, 32.5, 2.0, 16.0, 12.0, 9.0, 54.0, 8.0, 63.0, 14.0, 22.5, 62.0, 0.83, 67.0, 28.5, 0.33, 0.17, 38.5, 3.0, 51.0, 5.0, 44.0, 14.5, 59.0, 58.0, 0.75, 0.92, 36.5, 40.5, 11.5, 34.0, 15.0, 7.0, 60.5, 26.5, 76.0, 34.5], \"y\": [17, 17, 16, 15, 13, 12, 12, 11, 11, 10, 9, 9, 8, 7, 7, 6, 6, 6, 6, 6, 5, 5, 5, 5, 5, 5, 5, 4, 4, 3, 3, 3, 3, 3, 3, 3, 3, 3, 3, 3, 3, 2, 2, 2, 2, 2, 2, 2, 2, 2, 2, 2, 1, 1, 1, 1, 1, 1, 1, 1, 1, 1, 1, 1, 1, 1, 1, 1, 1, 1, 1, 1, 1, 1, 1, 1, 1, 1, 1], \"type\": \"bar\", \"uid\": \"de102cb6-d1d8-4498-b11d-136673d450a7\", \"xaxis\": \"x2\", \"yaxis\": \"y2\"}], {\"annotations\": [{\"font\": {\"size\": 16}, \"showarrow\": false, \"text\": \"Train data\", \"x\": 0.225, \"xanchor\": \"center\", \"xref\": \"paper\", \"y\": 1.0, \"yanchor\": \"bottom\", \"yref\": \"paper\"}, {\"font\": {\"size\": 16}, \"showarrow\": false, \"text\": \"Test data\", \"x\": 0.775, \"xanchor\": \"center\", \"xref\": \"paper\", \"y\": 1.0, \"yanchor\": \"bottom\", \"yref\": \"paper\"}], \"xaxis\": {\"anchor\": \"y\", \"domain\": [0.0, 0.45], \"title\": {\"text\": \"Age\"}}, \"yaxis\": {\"anchor\": \"x\", \"domain\": [0.0, 1.0], \"title\": {\"text\": \"Number of passengers\"}}, \"xaxis2\": {\"anchor\": \"y2\", \"domain\": [0.55, 1.0], \"title\": {\"text\": \"Age\"}}, \"yaxis2\": {\"anchor\": \"x2\", \"domain\": [0.0, 1.0], \"title\": {\"text\": \"Number of passengers\"}}, \"showlegend\": false}, {\"showLink\": false, \"linkText\": \"Export to plot.ly\", \"plotlyServerURL\": \"https://plot.ly\"}); \n",
       "}\n",
       "});</script><script type=\"text/javascript\">window.addEventListener(\"resize\", function(){if (document.getElementById(\"2aa8d02a-f905-44f7-b0be-a25a50474c72\")) {window._Plotly.Plots.resize(document.getElementById(\"2aa8d02a-f905-44f7-b0be-a25a50474c72\"));};})</script>"
      ]
     },
     "metadata": {},
     "output_type": "display_data"
    }
   ],
   "source": [
    "plot_two_bar(get_categories(train_df,'Age'), get_categories(test_df,'Age'), \n",
    "             'Train data', 'Test data',\n",
    "             'Age', 'Number of passengers')"
   ]
  },
  {
   "cell_type": "code",
   "execution_count": 14,
   "metadata": {
    "colab": {
     "base_uri": "https://localhost:8080/",
     "height": 542
    },
    "colab_type": "code",
    "id": "zhSFLVlBMzN-",
    "outputId": "5818026e-0b86-4453-a80b-7070beff6c24"
   },
   "outputs": [
    {
     "data": {
      "application/vnd.plotly.v1+json": {
       "config": {
        "linkText": "Export to plot.ly",
        "plotlyServerURL": "https://plot.ly",
        "showLink": false
       },
       "data": [
        {
         "marker": {
          "color": "Blue"
         },
         "name": "Survived",
         "text": [
          15,
          11,
          11,
          11,
          11,
          10,
          9,
          9,
          9,
          8,
          8,
          7,
          7,
          6,
          6,
          6,
          6,
          6,
          6,
          6,
          6,
          6,
          5,
          5,
          5,
          5,
          5,
          5,
          5,
          5,
          4,
          4,
          4,
          3,
          3,
          3,
          3,
          3,
          3,
          3,
          2,
          2,
          2,
          2,
          2,
          2,
          2,
          2,
          2,
          2,
          2,
          2,
          1,
          1,
          1,
          1,
          1,
          1,
          1,
          1,
          1,
          1,
          1,
          1,
          1
         ],
         "type": "bar",
         "uid": "3a71cc6d-aa8e-4a0a-90b5-f5f4544d5fd5",
         "x": [
          24,
          22,
          27,
          35,
          36,
          30,
          18,
          19,
          32,
          29,
          31,
          4,
          28,
          16,
          17,
          25,
          26,
          33,
          34,
          40,
          42,
          48,
          1,
          3,
          21,
          23,
          38,
          39,
          45,
          50,
          5,
          15,
          49,
          2,
          14,
          20,
          44,
          52,
          54,
          58,
          0.75,
          0.83,
          6,
          8,
          9,
          13,
          41,
          51,
          56,
          60,
          62,
          63,
          0.42,
          0.67,
          0.92,
          7,
          11,
          12,
          32.5,
          37,
          43,
          47,
          53,
          55,
          80
         ],
         "y": [
          15,
          11,
          11,
          11,
          11,
          10,
          9,
          9,
          9,
          8,
          8,
          7,
          7,
          6,
          6,
          6,
          6,
          6,
          6,
          6,
          6,
          6,
          5,
          5,
          5,
          5,
          5,
          5,
          5,
          5,
          4,
          4,
          4,
          3,
          3,
          3,
          3,
          3,
          3,
          3,
          2,
          2,
          2,
          2,
          2,
          2,
          2,
          2,
          2,
          2,
          2,
          2,
          1,
          1,
          1,
          1,
          1,
          1,
          1,
          1,
          1,
          1,
          1,
          1,
          1
         ]
        },
        {
         "marker": {
          "color": "Red"
         },
         "name": "Not survived",
         "text": [
          15,
          11,
          11,
          11,
          11,
          10,
          9,
          9,
          9,
          8,
          8,
          7,
          7,
          6,
          6,
          6,
          6,
          6,
          6,
          6,
          6,
          6,
          5,
          5,
          5,
          5,
          5,
          5,
          5,
          5,
          4,
          4,
          4,
          3,
          3,
          3,
          3,
          3,
          3,
          3,
          2,
          2,
          2,
          2,
          2,
          2,
          2,
          2,
          2,
          2,
          2,
          2,
          1,
          1,
          1,
          1,
          1,
          1,
          1,
          1,
          1,
          1,
          1,
          1,
          1
         ],
         "type": "bar",
         "uid": "3f5afdc9-1ef2-4765-b273-f47eb9fad510",
         "x": [
          21,
          28,
          18,
          25,
          19,
          22,
          24,
          30,
          20,
          26,
          29,
          16,
          36,
          23,
          31,
          32,
          33,
          34,
          39,
          47,
          2,
          17,
          27,
          35,
          40,
          42,
          45,
          9,
          38,
          44,
          37,
          50,
          51,
          54,
          41,
          43,
          4,
          11,
          14,
          46,
          48,
          52,
          61,
          65,
          1,
          7,
          8,
          10,
          28.5,
          30.5,
          40.5,
          45.5,
          49,
          56,
          57,
          58,
          59,
          60,
          62,
          64,
          70,
          71,
          3,
          6,
          14.5,
          15,
          20.5,
          23.5,
          24.5,
          32.5,
          34.5,
          36.5,
          55,
          55.5,
          66,
          70.5,
          74
         ],
         "y": [
          19,
          18,
          17,
          17,
          16,
          16,
          15,
          15,
          12,
          12,
          12,
          11,
          11,
          10,
          9,
          9,
          9,
          9,
          9,
          8,
          7,
          7,
          7,
          7,
          7,
          7,
          7,
          6,
          6,
          6,
          5,
          5,
          5,
          5,
          4,
          4,
          3,
          3,
          3,
          3,
          3,
          3,
          3,
          3,
          2,
          2,
          2,
          2,
          2,
          2,
          2,
          2,
          2,
          2,
          2,
          2,
          2,
          2,
          2,
          2,
          2,
          2,
          1,
          1,
          1,
          1,
          1,
          1,
          1,
          1,
          1,
          1,
          1,
          1,
          1,
          1,
          1
         ]
        }
       ],
       "layout": {
        "hovermode": "closest",
        "title": {
         "text": "Number of survived and not survived passengers by Age"
        },
        "xaxis": {
         "showticklabels": true,
         "title": {
          "text": "Age"
         }
        },
        "yaxis": {
         "title": {
          "text": "Number of passengers"
         }
        }
       }
      },
      "text/html": [
       "<div id=\"ddf56596-d662-4f00-8597-ca82615c6bc9\" style=\"height: 525px; width: 100%;\" class=\"plotly-graph-div\"></div><script type=\"text/javascript\">require([\"plotly\"], function(Plotly) { window.PLOTLYENV=window.PLOTLYENV || {};window.PLOTLYENV.BASE_URL=\"https://plot.ly\";\n",
       "if (document.getElementById(\"ddf56596-d662-4f00-8597-ca82615c6bc9\")) {\n",
       "    Plotly.newPlot(\"ddf56596-d662-4f00-8597-ca82615c6bc9\", [{\"marker\": {\"color\": \"Blue\"}, \"name\": \"Survived\", \"text\": [15.0, 11.0, 11.0, 11.0, 11.0, 10.0, 9.0, 9.0, 9.0, 8.0, 8.0, 7.0, 7.0, 6.0, 6.0, 6.0, 6.0, 6.0, 6.0, 6.0, 6.0, 6.0, 5.0, 5.0, 5.0, 5.0, 5.0, 5.0, 5.0, 5.0, 4.0, 4.0, 4.0, 3.0, 3.0, 3.0, 3.0, 3.0, 3.0, 3.0, 2.0, 2.0, 2.0, 2.0, 2.0, 2.0, 2.0, 2.0, 2.0, 2.0, 2.0, 2.0, 1.0, 1.0, 1.0, 1.0, 1.0, 1.0, 1.0, 1.0, 1.0, 1.0, 1.0, 1.0, 1.0], \"x\": [24.0, 22.0, 27.0, 35.0, 36.0, 30.0, 18.0, 19.0, 32.0, 29.0, 31.0, 4.0, 28.0, 16.0, 17.0, 25.0, 26.0, 33.0, 34.0, 40.0, 42.0, 48.0, 1.0, 3.0, 21.0, 23.0, 38.0, 39.0, 45.0, 50.0, 5.0, 15.0, 49.0, 2.0, 14.0, 20.0, 44.0, 52.0, 54.0, 58.0, 0.75, 0.83, 6.0, 8.0, 9.0, 13.0, 41.0, 51.0, 56.0, 60.0, 62.0, 63.0, 0.42, 0.67, 0.92, 7.0, 11.0, 12.0, 32.5, 37.0, 43.0, 47.0, 53.0, 55.0, 80.0], \"y\": [15, 11, 11, 11, 11, 10, 9, 9, 9, 8, 8, 7, 7, 6, 6, 6, 6, 6, 6, 6, 6, 6, 5, 5, 5, 5, 5, 5, 5, 5, 4, 4, 4, 3, 3, 3, 3, 3, 3, 3, 2, 2, 2, 2, 2, 2, 2, 2, 2, 2, 2, 2, 1, 1, 1, 1, 1, 1, 1, 1, 1, 1, 1, 1, 1], \"type\": \"bar\", \"uid\": \"3f98e370-ea6f-4881-8e43-9a5ff2b21d32\"}, {\"marker\": {\"color\": \"Red\"}, \"name\": \"Not survived\", \"text\": [15.0, 11.0, 11.0, 11.0, 11.0, 10.0, 9.0, 9.0, 9.0, 8.0, 8.0, 7.0, 7.0, 6.0, 6.0, 6.0, 6.0, 6.0, 6.0, 6.0, 6.0, 6.0, 5.0, 5.0, 5.0, 5.0, 5.0, 5.0, 5.0, 5.0, 4.0, 4.0, 4.0, 3.0, 3.0, 3.0, 3.0, 3.0, 3.0, 3.0, 2.0, 2.0, 2.0, 2.0, 2.0, 2.0, 2.0, 2.0, 2.0, 2.0, 2.0, 2.0, 1.0, 1.0, 1.0, 1.0, 1.0, 1.0, 1.0, 1.0, 1.0, 1.0, 1.0, 1.0, 1.0], \"x\": [21.0, 28.0, 18.0, 25.0, 19.0, 22.0, 24.0, 30.0, 20.0, 26.0, 29.0, 16.0, 36.0, 23.0, 31.0, 32.0, 33.0, 34.0, 39.0, 47.0, 2.0, 17.0, 27.0, 35.0, 40.0, 42.0, 45.0, 9.0, 38.0, 44.0, 37.0, 50.0, 51.0, 54.0, 41.0, 43.0, 4.0, 11.0, 14.0, 46.0, 48.0, 52.0, 61.0, 65.0, 1.0, 7.0, 8.0, 10.0, 28.5, 30.5, 40.5, 45.5, 49.0, 56.0, 57.0, 58.0, 59.0, 60.0, 62.0, 64.0, 70.0, 71.0, 3.0, 6.0, 14.5, 15.0, 20.5, 23.5, 24.5, 32.5, 34.5, 36.5, 55.0, 55.5, 66.0, 70.5, 74.0], \"y\": [19, 18, 17, 17, 16, 16, 15, 15, 12, 12, 12, 11, 11, 10, 9, 9, 9, 9, 9, 8, 7, 7, 7, 7, 7, 7, 7, 6, 6, 6, 5, 5, 5, 5, 4, 4, 3, 3, 3, 3, 3, 3, 3, 3, 2, 2, 2, 2, 2, 2, 2, 2, 2, 2, 2, 2, 2, 2, 2, 2, 2, 2, 1, 1, 1, 1, 1, 1, 1, 1, 1, 1, 1, 1, 1, 1, 1], \"type\": \"bar\", \"uid\": \"4b7b51c5-88d5-476a-96dc-12d6e5c82d67\"}], {\"hovermode\": \"closest\", \"title\": {\"text\": \"Number of survived and not survived passengers by Age\"}, \"xaxis\": {\"showticklabels\": true, \"title\": {\"text\": \"Age\"}}, \"yaxis\": {\"title\": {\"text\": \"Number of passengers\"}}}, {\"showLink\": false, \"linkText\": \"Export to plot.ly\", \"plotlyServerURL\": \"https://plot.ly\"}); \n",
       "}\n",
       "});</script><script type=\"text/javascript\">window.addEventListener(\"resize\", function(){if (document.getElementById(\"ddf56596-d662-4f00-8597-ca82615c6bc9\")) {window._Plotly.Plots.resize(document.getElementById(\"ddf56596-d662-4f00-8597-ca82615c6bc9\"));};})</script>"
      ],
      "text/vnd.plotly.v1+html": [
       "<div id=\"ddf56596-d662-4f00-8597-ca82615c6bc9\" style=\"height: 525px; width: 100%;\" class=\"plotly-graph-div\"></div><script type=\"text/javascript\">require([\"plotly\"], function(Plotly) { window.PLOTLYENV=window.PLOTLYENV || {};window.PLOTLYENV.BASE_URL=\"https://plot.ly\";\n",
       "if (document.getElementById(\"ddf56596-d662-4f00-8597-ca82615c6bc9\")) {\n",
       "    Plotly.newPlot(\"ddf56596-d662-4f00-8597-ca82615c6bc9\", [{\"marker\": {\"color\": \"Blue\"}, \"name\": \"Survived\", \"text\": [15.0, 11.0, 11.0, 11.0, 11.0, 10.0, 9.0, 9.0, 9.0, 8.0, 8.0, 7.0, 7.0, 6.0, 6.0, 6.0, 6.0, 6.0, 6.0, 6.0, 6.0, 6.0, 5.0, 5.0, 5.0, 5.0, 5.0, 5.0, 5.0, 5.0, 4.0, 4.0, 4.0, 3.0, 3.0, 3.0, 3.0, 3.0, 3.0, 3.0, 2.0, 2.0, 2.0, 2.0, 2.0, 2.0, 2.0, 2.0, 2.0, 2.0, 2.0, 2.0, 1.0, 1.0, 1.0, 1.0, 1.0, 1.0, 1.0, 1.0, 1.0, 1.0, 1.0, 1.0, 1.0], \"x\": [24.0, 22.0, 27.0, 35.0, 36.0, 30.0, 18.0, 19.0, 32.0, 29.0, 31.0, 4.0, 28.0, 16.0, 17.0, 25.0, 26.0, 33.0, 34.0, 40.0, 42.0, 48.0, 1.0, 3.0, 21.0, 23.0, 38.0, 39.0, 45.0, 50.0, 5.0, 15.0, 49.0, 2.0, 14.0, 20.0, 44.0, 52.0, 54.0, 58.0, 0.75, 0.83, 6.0, 8.0, 9.0, 13.0, 41.0, 51.0, 56.0, 60.0, 62.0, 63.0, 0.42, 0.67, 0.92, 7.0, 11.0, 12.0, 32.5, 37.0, 43.0, 47.0, 53.0, 55.0, 80.0], \"y\": [15, 11, 11, 11, 11, 10, 9, 9, 9, 8, 8, 7, 7, 6, 6, 6, 6, 6, 6, 6, 6, 6, 5, 5, 5, 5, 5, 5, 5, 5, 4, 4, 4, 3, 3, 3, 3, 3, 3, 3, 2, 2, 2, 2, 2, 2, 2, 2, 2, 2, 2, 2, 1, 1, 1, 1, 1, 1, 1, 1, 1, 1, 1, 1, 1], \"type\": \"bar\", \"uid\": \"3f98e370-ea6f-4881-8e43-9a5ff2b21d32\"}, {\"marker\": {\"color\": \"Red\"}, \"name\": \"Not survived\", \"text\": [15.0, 11.0, 11.0, 11.0, 11.0, 10.0, 9.0, 9.0, 9.0, 8.0, 8.0, 7.0, 7.0, 6.0, 6.0, 6.0, 6.0, 6.0, 6.0, 6.0, 6.0, 6.0, 5.0, 5.0, 5.0, 5.0, 5.0, 5.0, 5.0, 5.0, 4.0, 4.0, 4.0, 3.0, 3.0, 3.0, 3.0, 3.0, 3.0, 3.0, 2.0, 2.0, 2.0, 2.0, 2.0, 2.0, 2.0, 2.0, 2.0, 2.0, 2.0, 2.0, 1.0, 1.0, 1.0, 1.0, 1.0, 1.0, 1.0, 1.0, 1.0, 1.0, 1.0, 1.0, 1.0], \"x\": [21.0, 28.0, 18.0, 25.0, 19.0, 22.0, 24.0, 30.0, 20.0, 26.0, 29.0, 16.0, 36.0, 23.0, 31.0, 32.0, 33.0, 34.0, 39.0, 47.0, 2.0, 17.0, 27.0, 35.0, 40.0, 42.0, 45.0, 9.0, 38.0, 44.0, 37.0, 50.0, 51.0, 54.0, 41.0, 43.0, 4.0, 11.0, 14.0, 46.0, 48.0, 52.0, 61.0, 65.0, 1.0, 7.0, 8.0, 10.0, 28.5, 30.5, 40.5, 45.5, 49.0, 56.0, 57.0, 58.0, 59.0, 60.0, 62.0, 64.0, 70.0, 71.0, 3.0, 6.0, 14.5, 15.0, 20.5, 23.5, 24.5, 32.5, 34.5, 36.5, 55.0, 55.5, 66.0, 70.5, 74.0], \"y\": [19, 18, 17, 17, 16, 16, 15, 15, 12, 12, 12, 11, 11, 10, 9, 9, 9, 9, 9, 8, 7, 7, 7, 7, 7, 7, 7, 6, 6, 6, 5, 5, 5, 5, 4, 4, 3, 3, 3, 3, 3, 3, 3, 3, 2, 2, 2, 2, 2, 2, 2, 2, 2, 2, 2, 2, 2, 2, 2, 2, 2, 2, 1, 1, 1, 1, 1, 1, 1, 1, 1, 1, 1, 1, 1, 1, 1], \"type\": \"bar\", \"uid\": \"4b7b51c5-88d5-476a-96dc-12d6e5c82d67\"}], {\"hovermode\": \"closest\", \"title\": {\"text\": \"Number of survived and not survived passengers by Age\"}, \"xaxis\": {\"showticklabels\": true, \"title\": {\"text\": \"Age\"}}, \"yaxis\": {\"title\": {\"text\": \"Number of passengers\"}}}, {\"showLink\": false, \"linkText\": \"Export to plot.ly\", \"plotlyServerURL\": \"https://plot.ly\"}); \n",
       "}\n",
       "});</script><script type=\"text/javascript\">window.addEventListener(\"resize\", function(){if (document.getElementById(\"ddf56596-d662-4f00-8597-ca82615c6bc9\")) {window._Plotly.Plots.resize(document.getElementById(\"ddf56596-d662-4f00-8597-ca82615c6bc9\"));};})</script>"
      ]
     },
     "metadata": {},
     "output_type": "display_data"
    }
   ],
   "source": [
    "plot_survived_bar(get_survived_categories(train_df,'Age'), 'Age')"
   ]
  },
  {
   "cell_type": "code",
   "execution_count": 15,
   "metadata": {
    "colab": {
     "base_uri": "https://localhost:8080/",
     "height": 542
    },
    "colab_type": "code",
    "id": "-Nijw4SUM2WO",
    "outputId": "66be1d6c-a5df-4c2b-d967-83e051a5c501"
   },
   "outputs": [
    {
     "data": {
      "application/vnd.plotly.v1+json": {
       "config": {
        "linkText": "Export to plot.ly",
        "plotlyServerURL": "https://plot.ly",
        "showLink": false
       },
       "data": [
        {
         "marker": {
          "color": "Blue"
         },
         "name": "Survived",
         "text": [
          210,
          112,
          13,
          4,
          3
         ],
         "type": "bar",
         "uid": "68dfe50d-c2ab-4cdf-8809-a686a039b85b",
         "x": [
          0,
          1,
          2,
          3,
          4
         ],
         "y": [
          210,
          112,
          13,
          4,
          3
         ]
        },
        {
         "marker": {
          "color": "Red"
         },
         "name": "Not survived",
         "text": [
          210,
          112,
          13,
          4,
          3
         ],
         "type": "bar",
         "uid": "cc201a60-3669-4b45-a446-d80905ecbd46",
         "x": [
          0,
          1,
          2,
          4,
          3,
          8,
          5
         ],
         "y": [
          398,
          97,
          15,
          15,
          12,
          7,
          5
         ]
        }
       ],
       "layout": {
        "hovermode": "closest",
        "title": {
         "text": "Number of survived and not survived passengers by SibSp"
        },
        "xaxis": {
         "showticklabels": true,
         "title": {
          "text": "SibSp"
         }
        },
        "yaxis": {
         "title": {
          "text": "Number of passengers"
         }
        }
       }
      },
      "text/html": [
       "<div id=\"547d1f9f-9bd7-4880-bdf2-df5e26ae56a4\" style=\"height: 525px; width: 100%;\" class=\"plotly-graph-div\"></div><script type=\"text/javascript\">require([\"plotly\"], function(Plotly) { window.PLOTLYENV=window.PLOTLYENV || {};window.PLOTLYENV.BASE_URL=\"https://plot.ly\";\n",
       "if (document.getElementById(\"547d1f9f-9bd7-4880-bdf2-df5e26ae56a4\")) {\n",
       "    Plotly.newPlot(\"547d1f9f-9bd7-4880-bdf2-df5e26ae56a4\", [{\"marker\": {\"color\": \"Blue\"}, \"name\": \"Survived\", \"text\": [210.0, 112.0, 13.0, 4.0, 3.0], \"x\": [0, 1, 2, 3, 4], \"y\": [210, 112, 13, 4, 3], \"type\": \"bar\", \"uid\": \"9ec92815-78fe-4964-b44c-ac89c91cfefb\"}, {\"marker\": {\"color\": \"Red\"}, \"name\": \"Not survived\", \"text\": [210.0, 112.0, 13.0, 4.0, 3.0], \"x\": [0, 1, 2, 4, 3, 8, 5], \"y\": [398, 97, 15, 15, 12, 7, 5], \"type\": \"bar\", \"uid\": \"b3c970da-600a-4fdc-9301-0042597d2556\"}], {\"hovermode\": \"closest\", \"title\": {\"text\": \"Number of survived and not survived passengers by SibSp\"}, \"xaxis\": {\"showticklabels\": true, \"title\": {\"text\": \"SibSp\"}}, \"yaxis\": {\"title\": {\"text\": \"Number of passengers\"}}}, {\"showLink\": false, \"linkText\": \"Export to plot.ly\", \"plotlyServerURL\": \"https://plot.ly\"}); \n",
       "}\n",
       "});</script><script type=\"text/javascript\">window.addEventListener(\"resize\", function(){if (document.getElementById(\"547d1f9f-9bd7-4880-bdf2-df5e26ae56a4\")) {window._Plotly.Plots.resize(document.getElementById(\"547d1f9f-9bd7-4880-bdf2-df5e26ae56a4\"));};})</script>"
      ],
      "text/vnd.plotly.v1+html": [
       "<div id=\"547d1f9f-9bd7-4880-bdf2-df5e26ae56a4\" style=\"height: 525px; width: 100%;\" class=\"plotly-graph-div\"></div><script type=\"text/javascript\">require([\"plotly\"], function(Plotly) { window.PLOTLYENV=window.PLOTLYENV || {};window.PLOTLYENV.BASE_URL=\"https://plot.ly\";\n",
       "if (document.getElementById(\"547d1f9f-9bd7-4880-bdf2-df5e26ae56a4\")) {\n",
       "    Plotly.newPlot(\"547d1f9f-9bd7-4880-bdf2-df5e26ae56a4\", [{\"marker\": {\"color\": \"Blue\"}, \"name\": \"Survived\", \"text\": [210.0, 112.0, 13.0, 4.0, 3.0], \"x\": [0, 1, 2, 3, 4], \"y\": [210, 112, 13, 4, 3], \"type\": \"bar\", \"uid\": \"9ec92815-78fe-4964-b44c-ac89c91cfefb\"}, {\"marker\": {\"color\": \"Red\"}, \"name\": \"Not survived\", \"text\": [210.0, 112.0, 13.0, 4.0, 3.0], \"x\": [0, 1, 2, 4, 3, 8, 5], \"y\": [398, 97, 15, 15, 12, 7, 5], \"type\": \"bar\", \"uid\": \"b3c970da-600a-4fdc-9301-0042597d2556\"}], {\"hovermode\": \"closest\", \"title\": {\"text\": \"Number of survived and not survived passengers by SibSp\"}, \"xaxis\": {\"showticklabels\": true, \"title\": {\"text\": \"SibSp\"}}, \"yaxis\": {\"title\": {\"text\": \"Number of passengers\"}}}, {\"showLink\": false, \"linkText\": \"Export to plot.ly\", \"plotlyServerURL\": \"https://plot.ly\"}); \n",
       "}\n",
       "});</script><script type=\"text/javascript\">window.addEventListener(\"resize\", function(){if (document.getElementById(\"547d1f9f-9bd7-4880-bdf2-df5e26ae56a4\")) {window._Plotly.Plots.resize(document.getElementById(\"547d1f9f-9bd7-4880-bdf2-df5e26ae56a4\"));};})</script>"
      ]
     },
     "metadata": {},
     "output_type": "display_data"
    }
   ],
   "source": [
    "plot_survived_bar(get_survived_categories(train_df,'SibSp'), 'SibSp')"
   ]
  },
  {
   "cell_type": "code",
   "execution_count": 16,
   "metadata": {
    "colab": {
     "base_uri": "https://localhost:8080/",
     "height": 542
    },
    "colab_type": "code",
    "id": "bfYWkuoBM9er",
    "outputId": "50ccd4ab-175e-4e44-a2b3-163fe072beec"
   },
   "outputs": [
    {
     "data": {
      "application/vnd.plotly.v1+json": {
       "config": {
        "linkText": "Export to plot.ly",
        "plotlyServerURL": "https://plot.ly",
        "showLink": false
       },
       "data": [
        {
         "marker": {
          "color": "Blue"
         },
         "name": "Survived",
         "text": [
          233,
          65,
          40,
          3,
          1
         ],
         "type": "bar",
         "uid": "bb92f1b4-46a3-4630-af4c-e7c1536d0a85",
         "x": [
          0,
          1,
          2,
          3,
          5
         ],
         "y": [
          233,
          65,
          40,
          3,
          1
         ]
        },
        {
         "marker": {
          "color": "Red"
         },
         "name": "Not survived",
         "text": [
          233,
          65,
          40,
          3,
          1
         ],
         "type": "bar",
         "uid": "466d0cae-7cfe-4bb7-ab0c-6a612bc7489f",
         "x": [
          0,
          1,
          2,
          4,
          5,
          3,
          6
         ],
         "y": [
          445,
          53,
          40,
          4,
          4,
          2,
          1
         ]
        }
       ],
       "layout": {
        "hovermode": "closest",
        "title": {
         "text": "Number of survived and not survived passengers by Parch"
        },
        "xaxis": {
         "showticklabels": true,
         "title": {
          "text": "Parch"
         }
        },
        "yaxis": {
         "title": {
          "text": "Number of passengers"
         }
        }
       }
      },
      "text/html": [
       "<div id=\"226e4cf2-0d2f-4d18-ad90-c22a6110ba85\" style=\"height: 525px; width: 100%;\" class=\"plotly-graph-div\"></div><script type=\"text/javascript\">require([\"plotly\"], function(Plotly) { window.PLOTLYENV=window.PLOTLYENV || {};window.PLOTLYENV.BASE_URL=\"https://plot.ly\";\n",
       "if (document.getElementById(\"226e4cf2-0d2f-4d18-ad90-c22a6110ba85\")) {\n",
       "    Plotly.newPlot(\"226e4cf2-0d2f-4d18-ad90-c22a6110ba85\", [{\"marker\": {\"color\": \"Blue\"}, \"name\": \"Survived\", \"text\": [233.0, 65.0, 40.0, 3.0, 1.0], \"x\": [0, 1, 2, 3, 5], \"y\": [233, 65, 40, 3, 1], \"type\": \"bar\", \"uid\": \"26b5b076-9594-41b4-8483-6c3fb7eb22c5\"}, {\"marker\": {\"color\": \"Red\"}, \"name\": \"Not survived\", \"text\": [233.0, 65.0, 40.0, 3.0, 1.0], \"x\": [0, 1, 2, 4, 5, 3, 6], \"y\": [445, 53, 40, 4, 4, 2, 1], \"type\": \"bar\", \"uid\": \"2921f894-4944-4539-aa4b-95ec7a6c097d\"}], {\"hovermode\": \"closest\", \"title\": {\"text\": \"Number of survived and not survived passengers by Parch\"}, \"xaxis\": {\"showticklabels\": true, \"title\": {\"text\": \"Parch\"}}, \"yaxis\": {\"title\": {\"text\": \"Number of passengers\"}}}, {\"showLink\": false, \"linkText\": \"Export to plot.ly\", \"plotlyServerURL\": \"https://plot.ly\"}); \n",
       "}\n",
       "});</script><script type=\"text/javascript\">window.addEventListener(\"resize\", function(){if (document.getElementById(\"226e4cf2-0d2f-4d18-ad90-c22a6110ba85\")) {window._Plotly.Plots.resize(document.getElementById(\"226e4cf2-0d2f-4d18-ad90-c22a6110ba85\"));};})</script>"
      ],
      "text/vnd.plotly.v1+html": [
       "<div id=\"226e4cf2-0d2f-4d18-ad90-c22a6110ba85\" style=\"height: 525px; width: 100%;\" class=\"plotly-graph-div\"></div><script type=\"text/javascript\">require([\"plotly\"], function(Plotly) { window.PLOTLYENV=window.PLOTLYENV || {};window.PLOTLYENV.BASE_URL=\"https://plot.ly\";\n",
       "if (document.getElementById(\"226e4cf2-0d2f-4d18-ad90-c22a6110ba85\")) {\n",
       "    Plotly.newPlot(\"226e4cf2-0d2f-4d18-ad90-c22a6110ba85\", [{\"marker\": {\"color\": \"Blue\"}, \"name\": \"Survived\", \"text\": [233.0, 65.0, 40.0, 3.0, 1.0], \"x\": [0, 1, 2, 3, 5], \"y\": [233, 65, 40, 3, 1], \"type\": \"bar\", \"uid\": \"26b5b076-9594-41b4-8483-6c3fb7eb22c5\"}, {\"marker\": {\"color\": \"Red\"}, \"name\": \"Not survived\", \"text\": [233.0, 65.0, 40.0, 3.0, 1.0], \"x\": [0, 1, 2, 4, 5, 3, 6], \"y\": [445, 53, 40, 4, 4, 2, 1], \"type\": \"bar\", \"uid\": \"2921f894-4944-4539-aa4b-95ec7a6c097d\"}], {\"hovermode\": \"closest\", \"title\": {\"text\": \"Number of survived and not survived passengers by Parch\"}, \"xaxis\": {\"showticklabels\": true, \"title\": {\"text\": \"Parch\"}}, \"yaxis\": {\"title\": {\"text\": \"Number of passengers\"}}}, {\"showLink\": false, \"linkText\": \"Export to plot.ly\", \"plotlyServerURL\": \"https://plot.ly\"}); \n",
       "}\n",
       "});</script><script type=\"text/javascript\">window.addEventListener(\"resize\", function(){if (document.getElementById(\"226e4cf2-0d2f-4d18-ad90-c22a6110ba85\")) {window._Plotly.Plots.resize(document.getElementById(\"226e4cf2-0d2f-4d18-ad90-c22a6110ba85\"));};})</script>"
      ]
     },
     "metadata": {},
     "output_type": "display_data"
    }
   ],
   "source": [
    "plot_survived_bar(get_survived_categories(train_df,'Parch'), 'Parch')"
   ]
  },
  {
   "cell_type": "code",
   "execution_count": 17,
   "metadata": {
    "colab": {
     "base_uri": "https://localhost:8080/",
     "height": 204
    },
    "colab_type": "code",
    "id": "jrWyy2UGNAUQ",
    "outputId": "fcd277aa-3f17-4060-d1b2-16ec58ad663e"
   },
   "outputs": [
    {
     "data": {
      "text/plain": [
       "347082          7\n",
       "CA. 2343        7\n",
       "1601            7\n",
       "CA 2144         6\n",
       "347088          6\n",
       "3101295         6\n",
       "S.O.C. 14879    5\n",
       "382652          5\n",
       "4133            4\n",
       "2666            4\n",
       "Name: Ticket, dtype: int64"
      ]
     },
     "execution_count": 17,
     "metadata": {},
     "output_type": "execute_result"
    }
   ],
   "source": [
    "train_df['Ticket'].value_counts().head(10)"
   ]
  },
  {
   "cell_type": "code",
   "execution_count": 18,
   "metadata": {
    "colab": {
     "base_uri": "https://localhost:8080/",
     "height": 204
    },
    "colab_type": "code",
    "id": "VYCr0FYXNOg5",
    "outputId": "2bb56f91-09a3-4277-f2b7-349de81f448a"
   },
   "outputs": [
    {
     "data": {
      "text/plain": [
       "G6             4\n",
       "C23 C25 C27    4\n",
       "B96 B98        4\n",
       "F2             3\n",
       "F33            3\n",
       "C22 C26        3\n",
       "D              3\n",
       "E101           3\n",
       "E8             2\n",
       "E44            2\n",
       "Name: Cabin, dtype: int64"
      ]
     },
     "execution_count": 18,
     "metadata": {},
     "output_type": "execute_result"
    }
   ],
   "source": [
    "train_df['Cabin'].value_counts().head(10)"
   ]
  },
  {
   "cell_type": "code",
   "execution_count": 19,
   "metadata": {
    "colab": {
     "base_uri": "https://localhost:8080/",
     "height": 204
    },
    "colab_type": "code",
    "id": "fJRFYU9ENQ7_",
    "outputId": "d5eaef2f-a261-4e7f-ed80-e6ee4101afe7"
   },
   "outputs": [
    {
     "data": {
      "text/plain": [
       "0                              Braund, Mr. Owen Harris\n",
       "1    Cumings, Mrs. John Bradley (Florence Briggs Th...\n",
       "2                               Heikkinen, Miss. Laina\n",
       "3         Futrelle, Mrs. Jacques Heath (Lily May Peel)\n",
       "4                             Allen, Mr. William Henry\n",
       "5                                     Moran, Mr. James\n",
       "6                              McCarthy, Mr. Timothy J\n",
       "7                       Palsson, Master. Gosta Leonard\n",
       "8    Johnson, Mrs. Oscar W (Elisabeth Vilhelmina Berg)\n",
       "9                  Nasser, Mrs. Nicholas (Adele Achem)\n",
       "Name: Name, dtype: object"
      ]
     },
     "execution_count": 19,
     "metadata": {},
     "output_type": "execute_result"
    }
   ],
   "source": [
    "train_df['Name'].head(10)"
   ]
  },
  {
   "cell_type": "markdown",
   "metadata": {
    "colab_type": "text",
    "id": "hiQaBJXUNX_d"
   },
   "source": [
    "# Feature engineering"
   ]
  },
  {
   "cell_type": "code",
   "execution_count": 20,
   "metadata": {
    "colab": {},
    "colab_type": "code",
    "id": "VOfXUzduNZ3z"
   },
   "outputs": [],
   "source": [
    "all_df = [train_df, test_df]"
   ]
  },
  {
   "cell_type": "code",
   "execution_count": 21,
   "metadata": {
    "colab": {},
    "colab_type": "code",
    "id": "sekJ1RIhNszA"
   },
   "outputs": [],
   "source": [
    "for dataset in all_df:\n",
    "    dataset['Title'] = dataset.Name.str.extract(' ([A-Za-z]+)\\.', expand=False)"
   ]
  },
  {
   "cell_type": "code",
   "execution_count": 22,
   "metadata": {
    "colab": {
     "base_uri": "https://localhost:8080/",
     "height": 607
    },
    "colab_type": "code",
    "id": "IX-8yKCUNv9a",
    "outputId": "bffd38c2-c6fc-4809-d66e-722a68aacd4a"
   },
   "outputs": [
    {
     "data": {
      "text/html": [
       "<div>\n",
       "<style scoped>\n",
       "    .dataframe tbody tr th:only-of-type {\n",
       "        vertical-align: middle;\n",
       "    }\n",
       "\n",
       "    .dataframe tbody tr th {\n",
       "        vertical-align: top;\n",
       "    }\n",
       "\n",
       "    .dataframe thead th {\n",
       "        text-align: right;\n",
       "    }\n",
       "</style>\n",
       "<table border=\"1\" class=\"dataframe\">\n",
       "  <thead>\n",
       "    <tr style=\"text-align: right;\">\n",
       "      <th>Sex</th>\n",
       "      <th>female</th>\n",
       "      <th>male</th>\n",
       "    </tr>\n",
       "    <tr>\n",
       "      <th>Title</th>\n",
       "      <th></th>\n",
       "      <th></th>\n",
       "    </tr>\n",
       "  </thead>\n",
       "  <tbody>\n",
       "    <tr>\n",
       "      <th>Capt</th>\n",
       "      <td>0</td>\n",
       "      <td>1</td>\n",
       "    </tr>\n",
       "    <tr>\n",
       "      <th>Col</th>\n",
       "      <td>0</td>\n",
       "      <td>2</td>\n",
       "    </tr>\n",
       "    <tr>\n",
       "      <th>Countess</th>\n",
       "      <td>1</td>\n",
       "      <td>0</td>\n",
       "    </tr>\n",
       "    <tr>\n",
       "      <th>Don</th>\n",
       "      <td>0</td>\n",
       "      <td>1</td>\n",
       "    </tr>\n",
       "    <tr>\n",
       "      <th>Dr</th>\n",
       "      <td>1</td>\n",
       "      <td>6</td>\n",
       "    </tr>\n",
       "    <tr>\n",
       "      <th>Jonkheer</th>\n",
       "      <td>0</td>\n",
       "      <td>1</td>\n",
       "    </tr>\n",
       "    <tr>\n",
       "      <th>Lady</th>\n",
       "      <td>1</td>\n",
       "      <td>0</td>\n",
       "    </tr>\n",
       "    <tr>\n",
       "      <th>Major</th>\n",
       "      <td>0</td>\n",
       "      <td>2</td>\n",
       "    </tr>\n",
       "    <tr>\n",
       "      <th>Master</th>\n",
       "      <td>0</td>\n",
       "      <td>40</td>\n",
       "    </tr>\n",
       "    <tr>\n",
       "      <th>Miss</th>\n",
       "      <td>182</td>\n",
       "      <td>0</td>\n",
       "    </tr>\n",
       "    <tr>\n",
       "      <th>Mlle</th>\n",
       "      <td>2</td>\n",
       "      <td>0</td>\n",
       "    </tr>\n",
       "    <tr>\n",
       "      <th>Mme</th>\n",
       "      <td>1</td>\n",
       "      <td>0</td>\n",
       "    </tr>\n",
       "    <tr>\n",
       "      <th>Mr</th>\n",
       "      <td>0</td>\n",
       "      <td>517</td>\n",
       "    </tr>\n",
       "    <tr>\n",
       "      <th>Mrs</th>\n",
       "      <td>125</td>\n",
       "      <td>0</td>\n",
       "    </tr>\n",
       "    <tr>\n",
       "      <th>Ms</th>\n",
       "      <td>1</td>\n",
       "      <td>0</td>\n",
       "    </tr>\n",
       "    <tr>\n",
       "      <th>Rev</th>\n",
       "      <td>0</td>\n",
       "      <td>6</td>\n",
       "    </tr>\n",
       "    <tr>\n",
       "      <th>Sir</th>\n",
       "      <td>0</td>\n",
       "      <td>1</td>\n",
       "    </tr>\n",
       "  </tbody>\n",
       "</table>\n",
       "</div>"
      ],
      "text/plain": [
       "Sex       female  male\n",
       "Title                 \n",
       "Capt           0     1\n",
       "Col            0     2\n",
       "Countess       1     0\n",
       "Don            0     1\n",
       "Dr             1     6\n",
       "Jonkheer       0     1\n",
       "Lady           1     0\n",
       "Major          0     2\n",
       "Master         0    40\n",
       "Miss         182     0\n",
       "Mlle           2     0\n",
       "Mme            1     0\n",
       "Mr             0   517\n",
       "Mrs          125     0\n",
       "Ms             1     0\n",
       "Rev            0     6\n",
       "Sir            0     1"
      ]
     },
     "execution_count": 22,
     "metadata": {},
     "output_type": "execute_result"
    }
   ],
   "source": [
    "pd.crosstab(train_df['Title'], train_df['Sex'])"
   ]
  },
  {
   "cell_type": "code",
   "execution_count": 23,
   "metadata": {
    "colab": {},
    "colab_type": "code",
    "id": "WinJZi8JNywE"
   },
   "outputs": [],
   "source": [
    "for dataset in all_df:\n",
    "    #unify `Miss`\n",
    "    dataset['Title'] = dataset['Title'].replace('Mlle', 'Miss')\n",
    "    dataset['Title'] = dataset['Title'].replace('Ms', 'Miss')\n",
    "    #unify `Mrs`\n",
    "    dataset['Title'] = dataset['Title'].replace('Mme', 'Mrs')"
   ]
  },
  {
   "cell_type": "code",
   "execution_count": 24,
   "metadata": {
    "colab": {},
    "colab_type": "code",
    "id": "ejm6ClLeN3Ga"
   },
   "outputs": [],
   "source": [
    "for dataset in all_df:\n",
    "    dataset['Title'] = dataset['Title'].replace(['Lady', 'Countess','Capt', 'Col',\\\n",
    "     'Don', 'Dr', 'Major', 'Rev', 'Sir', 'Jonkheer', 'Dona'], 'Rare')"
   ]
  },
  {
   "cell_type": "code",
   "execution_count": 25,
   "metadata": {
    "colab": {
     "base_uri": "https://localhost:8080/",
     "height": 235
    },
    "colab_type": "code",
    "id": "egyp7GcDOBDq",
    "outputId": "db33acd4-be70-47d3-bdbf-387a3a677d4a"
   },
   "outputs": [
    {
     "data": {
      "text/html": [
       "<div>\n",
       "<style scoped>\n",
       "    .dataframe tbody tr th:only-of-type {\n",
       "        vertical-align: middle;\n",
       "    }\n",
       "\n",
       "    .dataframe tbody tr th {\n",
       "        vertical-align: top;\n",
       "    }\n",
       "\n",
       "    .dataframe thead th {\n",
       "        text-align: right;\n",
       "    }\n",
       "</style>\n",
       "<table border=\"1\" class=\"dataframe\">\n",
       "  <thead>\n",
       "    <tr style=\"text-align: right;\">\n",
       "      <th></th>\n",
       "      <th>Title</th>\n",
       "      <th>Sex</th>\n",
       "      <th>Survived</th>\n",
       "    </tr>\n",
       "  </thead>\n",
       "  <tbody>\n",
       "    <tr>\n",
       "      <th>0</th>\n",
       "      <td>Master</td>\n",
       "      <td>male</td>\n",
       "      <td>0.575000</td>\n",
       "    </tr>\n",
       "    <tr>\n",
       "      <th>1</th>\n",
       "      <td>Miss</td>\n",
       "      <td>female</td>\n",
       "      <td>0.702703</td>\n",
       "    </tr>\n",
       "    <tr>\n",
       "      <th>2</th>\n",
       "      <td>Mr</td>\n",
       "      <td>male</td>\n",
       "      <td>0.156673</td>\n",
       "    </tr>\n",
       "    <tr>\n",
       "      <th>3</th>\n",
       "      <td>Mrs</td>\n",
       "      <td>female</td>\n",
       "      <td>0.793651</td>\n",
       "    </tr>\n",
       "    <tr>\n",
       "      <th>4</th>\n",
       "      <td>Rare</td>\n",
       "      <td>female</td>\n",
       "      <td>1.000000</td>\n",
       "    </tr>\n",
       "    <tr>\n",
       "      <th>5</th>\n",
       "      <td>Rare</td>\n",
       "      <td>male</td>\n",
       "      <td>0.250000</td>\n",
       "    </tr>\n",
       "  </tbody>\n",
       "</table>\n",
       "</div>"
      ],
      "text/plain": [
       "    Title     Sex  Survived\n",
       "0  Master    male  0.575000\n",
       "1    Miss  female  0.702703\n",
       "2      Mr    male  0.156673\n",
       "3     Mrs  female  0.793651\n",
       "4    Rare  female  1.000000\n",
       "5    Rare    male  0.250000"
      ]
     },
     "execution_count": 25,
     "metadata": {},
     "output_type": "execute_result"
    }
   ],
   "source": [
    "train_df[['Title', 'Sex', 'Survived']].groupby(['Title', 'Sex'], as_index=False).mean()"
   ]
  },
  {
   "cell_type": "code",
   "execution_count": 26,
   "metadata": {
    "colab": {
     "base_uri": "https://localhost:8080/",
     "height": 542
    },
    "colab_type": "code",
    "id": "KZhVb_83ODZG",
    "outputId": "8c729285-1e72-4b83-ce78-bfea08ffc809"
   },
   "outputs": [
    {
     "data": {
      "application/vnd.plotly.v1+json": {
       "config": {
        "linkText": "Export to plot.ly",
        "plotlyServerURL": "https://plot.ly",
        "showLink": false
       },
       "data": [
        {
         "marker": {
          "color": "Blue"
         },
         "name": "Survived",
         "text": [
          130,
          100,
          81,
          23,
          8
         ],
         "type": "bar",
         "uid": "d7abe207-2fc7-4da0-8ca7-a6e2f92237fb",
         "x": [
          "Miss",
          "Mrs",
          "Mr",
          "Master",
          "Rare"
         ],
         "y": [
          130,
          100,
          81,
          23,
          8
         ]
        },
        {
         "marker": {
          "color": "Red"
         },
         "name": "Not survived",
         "text": [
          130,
          100,
          81,
          23,
          8
         ],
         "type": "bar",
         "uid": "81f6827b-aaa4-4855-a048-940c81f7df4d",
         "x": [
          "Mr",
          "Miss",
          "Mrs",
          "Master",
          "Rare"
         ],
         "y": [
          436,
          55,
          26,
          17,
          15
         ]
        }
       ],
       "layout": {
        "hovermode": "closest",
        "title": {
         "text": "Number of survived and not survived passengers by Title"
        },
        "xaxis": {
         "showticklabels": true,
         "title": {
          "text": "Title"
         }
        },
        "yaxis": {
         "title": {
          "text": "Number of passengers"
         }
        }
       }
      },
      "text/html": [
       "<div id=\"a238eedf-8a9d-46cf-971d-44e274f1fa95\" style=\"height: 525px; width: 100%;\" class=\"plotly-graph-div\"></div><script type=\"text/javascript\">require([\"plotly\"], function(Plotly) { window.PLOTLYENV=window.PLOTLYENV || {};window.PLOTLYENV.BASE_URL=\"https://plot.ly\";\n",
       "if (document.getElementById(\"a238eedf-8a9d-46cf-971d-44e274f1fa95\")) {\n",
       "    Plotly.newPlot(\"a238eedf-8a9d-46cf-971d-44e274f1fa95\", [{\"marker\": {\"color\": \"Blue\"}, \"name\": \"Survived\", \"text\": [130.0, 100.0, 81.0, 23.0, 8.0], \"x\": [\"Miss\", \"Mrs\", \"Mr\", \"Master\", \"Rare\"], \"y\": [130, 100, 81, 23, 8], \"type\": \"bar\", \"uid\": \"c00aca93-4d7c-48d8-aec2-9c80a477ac8a\"}, {\"marker\": {\"color\": \"Red\"}, \"name\": \"Not survived\", \"text\": [130.0, 100.0, 81.0, 23.0, 8.0], \"x\": [\"Mr\", \"Miss\", \"Mrs\", \"Master\", \"Rare\"], \"y\": [436, 55, 26, 17, 15], \"type\": \"bar\", \"uid\": \"56e1f85a-b2c0-4749-bfed-da5e72c89f27\"}], {\"hovermode\": \"closest\", \"title\": {\"text\": \"Number of survived and not survived passengers by Title\"}, \"xaxis\": {\"showticklabels\": true, \"title\": {\"text\": \"Title\"}}, \"yaxis\": {\"title\": {\"text\": \"Number of passengers\"}}}, {\"showLink\": false, \"linkText\": \"Export to plot.ly\", \"plotlyServerURL\": \"https://plot.ly\"}); \n",
       "}\n",
       "});</script><script type=\"text/javascript\">window.addEventListener(\"resize\", function(){if (document.getElementById(\"a238eedf-8a9d-46cf-971d-44e274f1fa95\")) {window._Plotly.Plots.resize(document.getElementById(\"a238eedf-8a9d-46cf-971d-44e274f1fa95\"));};})</script>"
      ],
      "text/vnd.plotly.v1+html": [
       "<div id=\"a238eedf-8a9d-46cf-971d-44e274f1fa95\" style=\"height: 525px; width: 100%;\" class=\"plotly-graph-div\"></div><script type=\"text/javascript\">require([\"plotly\"], function(Plotly) { window.PLOTLYENV=window.PLOTLYENV || {};window.PLOTLYENV.BASE_URL=\"https://plot.ly\";\n",
       "if (document.getElementById(\"a238eedf-8a9d-46cf-971d-44e274f1fa95\")) {\n",
       "    Plotly.newPlot(\"a238eedf-8a9d-46cf-971d-44e274f1fa95\", [{\"marker\": {\"color\": \"Blue\"}, \"name\": \"Survived\", \"text\": [130.0, 100.0, 81.0, 23.0, 8.0], \"x\": [\"Miss\", \"Mrs\", \"Mr\", \"Master\", \"Rare\"], \"y\": [130, 100, 81, 23, 8], \"type\": \"bar\", \"uid\": \"c00aca93-4d7c-48d8-aec2-9c80a477ac8a\"}, {\"marker\": {\"color\": \"Red\"}, \"name\": \"Not survived\", \"text\": [130.0, 100.0, 81.0, 23.0, 8.0], \"x\": [\"Mr\", \"Miss\", \"Mrs\", \"Master\", \"Rare\"], \"y\": [436, 55, 26, 17, 15], \"type\": \"bar\", \"uid\": \"56e1f85a-b2c0-4749-bfed-da5e72c89f27\"}], {\"hovermode\": \"closest\", \"title\": {\"text\": \"Number of survived and not survived passengers by Title\"}, \"xaxis\": {\"showticklabels\": true, \"title\": {\"text\": \"Title\"}}, \"yaxis\": {\"title\": {\"text\": \"Number of passengers\"}}}, {\"showLink\": false, \"linkText\": \"Export to plot.ly\", \"plotlyServerURL\": \"https://plot.ly\"}); \n",
       "}\n",
       "});</script><script type=\"text/javascript\">window.addEventListener(\"resize\", function(){if (document.getElementById(\"a238eedf-8a9d-46cf-971d-44e274f1fa95\")) {window._Plotly.Plots.resize(document.getElementById(\"a238eedf-8a9d-46cf-971d-44e274f1fa95\"));};})</script>"
      ]
     },
     "metadata": {},
     "output_type": "display_data"
    }
   ],
   "source": [
    "plot_survived_bar(get_survived_categories(train_df,'Title'), 'Title')"
   ]
  },
  {
   "cell_type": "code",
   "execution_count": 27,
   "metadata": {
    "colab": {},
    "colab_type": "code",
    "id": "tGYpr-vDOIC3"
   },
   "outputs": [],
   "source": [
    "for dataset in all_df:\n",
    "    dataset['FamilySize'] = dataset['SibSp'] + dataset['Parch'] + 1"
   ]
  },
  {
   "cell_type": "code",
   "execution_count": 28,
   "metadata": {
    "colab": {
     "base_uri": "https://localhost:8080/",
     "height": 328
    },
    "colab_type": "code",
    "id": "xLtwiWt4OwnP",
    "outputId": "b108d6d7-6182-4b6e-e0d3-5a69ec5a1f4c"
   },
   "outputs": [
    {
     "data": {
      "text/html": [
       "<div>\n",
       "<style scoped>\n",
       "    .dataframe tbody tr th:only-of-type {\n",
       "        vertical-align: middle;\n",
       "    }\n",
       "\n",
       "    .dataframe tbody tr th {\n",
       "        vertical-align: top;\n",
       "    }\n",
       "\n",
       "    .dataframe thead th {\n",
       "        text-align: right;\n",
       "    }\n",
       "</style>\n",
       "<table border=\"1\" class=\"dataframe\">\n",
       "  <thead>\n",
       "    <tr style=\"text-align: right;\">\n",
       "      <th></th>\n",
       "      <th>FamilySize</th>\n",
       "      <th>Survived</th>\n",
       "    </tr>\n",
       "  </thead>\n",
       "  <tbody>\n",
       "    <tr>\n",
       "      <th>0</th>\n",
       "      <td>1</td>\n",
       "      <td>0.303538</td>\n",
       "    </tr>\n",
       "    <tr>\n",
       "      <th>1</th>\n",
       "      <td>2</td>\n",
       "      <td>0.552795</td>\n",
       "    </tr>\n",
       "    <tr>\n",
       "      <th>2</th>\n",
       "      <td>3</td>\n",
       "      <td>0.578431</td>\n",
       "    </tr>\n",
       "    <tr>\n",
       "      <th>3</th>\n",
       "      <td>4</td>\n",
       "      <td>0.724138</td>\n",
       "    </tr>\n",
       "    <tr>\n",
       "      <th>4</th>\n",
       "      <td>5</td>\n",
       "      <td>0.200000</td>\n",
       "    </tr>\n",
       "    <tr>\n",
       "      <th>5</th>\n",
       "      <td>6</td>\n",
       "      <td>0.136364</td>\n",
       "    </tr>\n",
       "    <tr>\n",
       "      <th>6</th>\n",
       "      <td>7</td>\n",
       "      <td>0.333333</td>\n",
       "    </tr>\n",
       "    <tr>\n",
       "      <th>7</th>\n",
       "      <td>8</td>\n",
       "      <td>0.000000</td>\n",
       "    </tr>\n",
       "    <tr>\n",
       "      <th>8</th>\n",
       "      <td>11</td>\n",
       "      <td>0.000000</td>\n",
       "    </tr>\n",
       "  </tbody>\n",
       "</table>\n",
       "</div>"
      ],
      "text/plain": [
       "   FamilySize  Survived\n",
       "0           1  0.303538\n",
       "1           2  0.552795\n",
       "2           3  0.578431\n",
       "3           4  0.724138\n",
       "4           5  0.200000\n",
       "5           6  0.136364\n",
       "6           7  0.333333\n",
       "7           8  0.000000\n",
       "8          11  0.000000"
      ]
     },
     "execution_count": 28,
     "metadata": {},
     "output_type": "execute_result"
    }
   ],
   "source": [
    "train_df[['FamilySize', 'Survived']].groupby(['FamilySize'], as_index=False).mean()"
   ]
  },
  {
   "cell_type": "code",
   "execution_count": 29,
   "metadata": {
    "colab": {},
    "colab_type": "code",
    "id": "kI8W5rQXOyzH"
   },
   "outputs": [],
   "source": [
    "for dataset in all_df:\n",
    "    dataset['Surname'] = dataset.Name.str.extract('([A-Za-z]+)\\,', expand=False)"
   ]
  },
  {
   "cell_type": "code",
   "execution_count": 30,
   "metadata": {
    "colab": {},
    "colab_type": "code",
    "id": "Z8vn4AgRO4px"
   },
   "outputs": [],
   "source": [
    "tmp = train_df.groupby(['Surname'])['Survived'].value_counts()\n",
    "df = pd.DataFrame(data={'Size of group with same Surname': tmp.values}, index=tmp.index).reset_index().sort_values(['Size of group with same Surname', 'Surname'], ascending=False)"
   ]
  },
  {
   "cell_type": "code",
   "execution_count": 31,
   "metadata": {
    "colab": {
     "base_uri": "https://localhost:8080/",
     "height": 390
    },
    "colab_type": "code",
    "id": "MojaLIfEO6ff",
    "outputId": "71deaa4a-24c0-48b8-b67a-f856aea35365"
   },
   "outputs": [
    {
     "data": {
      "text/html": [
       "<div>\n",
       "<style scoped>\n",
       "    .dataframe tbody tr th:only-of-type {\n",
       "        vertical-align: middle;\n",
       "    }\n",
       "\n",
       "    .dataframe tbody tr th {\n",
       "        vertical-align: top;\n",
       "    }\n",
       "\n",
       "    .dataframe thead th {\n",
       "        text-align: right;\n",
       "    }\n",
       "</style>\n",
       "<table border=\"1\" class=\"dataframe\">\n",
       "  <thead>\n",
       "    <tr style=\"text-align: right;\">\n",
       "      <th></th>\n",
       "      <th>Size of group with same Surname</th>\n",
       "      <th>Survived</th>\n",
       "      <th>Number</th>\n",
       "    </tr>\n",
       "  </thead>\n",
       "  <tbody>\n",
       "    <tr>\n",
       "      <th>10</th>\n",
       "      <td>7</td>\n",
       "      <td>0</td>\n",
       "      <td>2</td>\n",
       "    </tr>\n",
       "    <tr>\n",
       "      <th>9</th>\n",
       "      <td>6</td>\n",
       "      <td>0</td>\n",
       "      <td>3</td>\n",
       "    </tr>\n",
       "    <tr>\n",
       "      <th>8</th>\n",
       "      <td>5</td>\n",
       "      <td>0</td>\n",
       "      <td>1</td>\n",
       "    </tr>\n",
       "    <tr>\n",
       "      <th>7</th>\n",
       "      <td>4</td>\n",
       "      <td>1</td>\n",
       "      <td>2</td>\n",
       "    </tr>\n",
       "    <tr>\n",
       "      <th>6</th>\n",
       "      <td>4</td>\n",
       "      <td>0</td>\n",
       "      <td>4</td>\n",
       "    </tr>\n",
       "    <tr>\n",
       "      <th>5</th>\n",
       "      <td>3</td>\n",
       "      <td>1</td>\n",
       "      <td>6</td>\n",
       "    </tr>\n",
       "    <tr>\n",
       "      <th>4</th>\n",
       "      <td>3</td>\n",
       "      <td>0</td>\n",
       "      <td>13</td>\n",
       "    </tr>\n",
       "    <tr>\n",
       "      <th>2</th>\n",
       "      <td>2</td>\n",
       "      <td>1</td>\n",
       "      <td>44</td>\n",
       "    </tr>\n",
       "    <tr>\n",
       "      <th>3</th>\n",
       "      <td>2</td>\n",
       "      <td>0</td>\n",
       "      <td>37</td>\n",
       "    </tr>\n",
       "    <tr>\n",
       "      <th>1</th>\n",
       "      <td>1</td>\n",
       "      <td>1</td>\n",
       "      <td>228</td>\n",
       "    </tr>\n",
       "    <tr>\n",
       "      <th>0</th>\n",
       "      <td>1</td>\n",
       "      <td>0</td>\n",
       "      <td>383</td>\n",
       "    </tr>\n",
       "  </tbody>\n",
       "</table>\n",
       "</div>"
      ],
      "text/plain": [
       "    Size of group with same Surname  Survived  Number\n",
       "10                                7         0       2\n",
       "9                                 6         0       3\n",
       "8                                 5         0       1\n",
       "7                                 4         1       2\n",
       "6                                 4         0       4\n",
       "5                                 3         1       6\n",
       "4                                 3         0      13\n",
       "2                                 2         1      44\n",
       "3                                 2         0      37\n",
       "1                                 1         1     228\n",
       "0                                 1         0     383"
      ]
     },
     "execution_count": 31,
     "metadata": {},
     "output_type": "execute_result"
    }
   ],
   "source": [
    "tmp = df.groupby(['Size of group with same Surname'])['Survived'].value_counts()\n",
    "df = pd.DataFrame(data={'Number': tmp.values}, index=tmp.index).reset_index().sort_values(['Size of group with same Surname', 'Survived'], ascending=False)\n",
    "df"
   ]
  },
  {
   "cell_type": "code",
   "execution_count": 32,
   "metadata": {
    "colab": {},
    "colab_type": "code",
    "id": "KodmKedNO-Lo"
   },
   "outputs": [],
   "source": [
    "for dataset in all_df:\n",
    "    dataset['Deck'] = dataset.Cabin.str.extract('^([A-Za-z]+)', expand=False)"
   ]
  },
  {
   "cell_type": "code",
   "execution_count": 33,
   "metadata": {
    "colab": {
     "base_uri": "https://localhost:8080/",
     "height": 297
    },
    "colab_type": "code",
    "id": "ms9Ug-5EPGcO",
    "outputId": "ff582089-10b1-4905-e51f-e4f2061808c4"
   },
   "outputs": [
    {
     "data": {
      "text/html": [
       "<div>\n",
       "<style scoped>\n",
       "    .dataframe tbody tr th:only-of-type {\n",
       "        vertical-align: middle;\n",
       "    }\n",
       "\n",
       "    .dataframe tbody tr th {\n",
       "        vertical-align: top;\n",
       "    }\n",
       "\n",
       "    .dataframe thead th {\n",
       "        text-align: right;\n",
       "    }\n",
       "</style>\n",
       "<table border=\"1\" class=\"dataframe\">\n",
       "  <thead>\n",
       "    <tr style=\"text-align: right;\">\n",
       "      <th></th>\n",
       "      <th>Deck</th>\n",
       "      <th>Survived</th>\n",
       "    </tr>\n",
       "  </thead>\n",
       "  <tbody>\n",
       "    <tr>\n",
       "      <th>0</th>\n",
       "      <td>A</td>\n",
       "      <td>0.466667</td>\n",
       "    </tr>\n",
       "    <tr>\n",
       "      <th>1</th>\n",
       "      <td>B</td>\n",
       "      <td>0.744681</td>\n",
       "    </tr>\n",
       "    <tr>\n",
       "      <th>2</th>\n",
       "      <td>C</td>\n",
       "      <td>0.593220</td>\n",
       "    </tr>\n",
       "    <tr>\n",
       "      <th>3</th>\n",
       "      <td>D</td>\n",
       "      <td>0.757576</td>\n",
       "    </tr>\n",
       "    <tr>\n",
       "      <th>4</th>\n",
       "      <td>E</td>\n",
       "      <td>0.750000</td>\n",
       "    </tr>\n",
       "    <tr>\n",
       "      <th>5</th>\n",
       "      <td>F</td>\n",
       "      <td>0.615385</td>\n",
       "    </tr>\n",
       "    <tr>\n",
       "      <th>6</th>\n",
       "      <td>G</td>\n",
       "      <td>0.500000</td>\n",
       "    </tr>\n",
       "    <tr>\n",
       "      <th>7</th>\n",
       "      <td>T</td>\n",
       "      <td>0.000000</td>\n",
       "    </tr>\n",
       "  </tbody>\n",
       "</table>\n",
       "</div>"
      ],
      "text/plain": [
       "  Deck  Survived\n",
       "0    A  0.466667\n",
       "1    B  0.744681\n",
       "2    C  0.593220\n",
       "3    D  0.757576\n",
       "4    E  0.750000\n",
       "5    F  0.615385\n",
       "6    G  0.500000\n",
       "7    T  0.000000"
      ]
     },
     "execution_count": 33,
     "metadata": {},
     "output_type": "execute_result"
    }
   ],
   "source": [
    "train_df[['Deck', 'Survived']].groupby(['Deck'], as_index=False).mean()"
   ]
  },
  {
   "cell_type": "code",
   "execution_count": 34,
   "metadata": {
    "colab": {},
    "colab_type": "code",
    "id": "keo0zsqUPIhA"
   },
   "outputs": [],
   "source": [
    "for dataset in all_df:\n",
    "    dataset['Sex'] = dataset['Sex'].map( {'female': 1, 'male': 0} ).astype(int)"
   ]
  },
  {
   "cell_type": "code",
   "execution_count": 35,
   "metadata": {
    "colab": {},
    "colab_type": "code",
    "id": "RYb_iIGrPQRU"
   },
   "outputs": [],
   "source": [
    "age_aprox = np.zeros((2,3))\n",
    "for dataset in all_df:\n",
    "    for i in range(0, 2):\n",
    "        for j in range(0, 3):\n",
    "            aprox_age = dataset[(dataset['Sex'] == i) & \\\n",
    "                                  (dataset['Pclass'] == j+1)]['Age'].dropna()\n",
    "            age_aprox[i,j] = aprox_age.median()\n",
    "            \n",
    "    for i in range(0, 2):\n",
    "        for j in range(0, 3):\n",
    "            dataset.loc[ (dataset.Age.isnull()) & (dataset.Sex == i) & (dataset.Pclass == j+1),'Age'] = \\\n",
    "                    age_aprox[i,j]\n",
    "\n",
    "    dataset['Age'] = dataset['Age'].astype(int)"
   ]
  },
  {
   "cell_type": "code",
   "execution_count": 36,
   "metadata": {
    "colab": {
     "base_uri": "https://localhost:8080/",
     "height": 824
    },
    "colab_type": "code",
    "id": "cg015fcCPWcO",
    "outputId": "2dd55d84-7d9b-4a4f-f34a-fba175259dc6"
   },
   "outputs": [
    {
     "data": {
      "text/html": [
       "<div>\n",
       "<style scoped>\n",
       "    .dataframe tbody tr th:only-of-type {\n",
       "        vertical-align: middle;\n",
       "    }\n",
       "\n",
       "    .dataframe tbody tr th {\n",
       "        vertical-align: top;\n",
       "    }\n",
       "\n",
       "    .dataframe thead th {\n",
       "        text-align: right;\n",
       "    }\n",
       "</style>\n",
       "<table border=\"1\" class=\"dataframe\">\n",
       "  <thead>\n",
       "    <tr style=\"text-align: right;\">\n",
       "      <th></th>\n",
       "      <th>Title</th>\n",
       "      <th>Pclass</th>\n",
       "      <th>Survived</th>\n",
       "      <th>Passengers</th>\n",
       "    </tr>\n",
       "  </thead>\n",
       "  <tbody>\n",
       "    <tr>\n",
       "      <th>0</th>\n",
       "      <td>Master</td>\n",
       "      <td>1</td>\n",
       "      <td>1</td>\n",
       "      <td>3</td>\n",
       "    </tr>\n",
       "    <tr>\n",
       "      <th>1</th>\n",
       "      <td>Master</td>\n",
       "      <td>2</td>\n",
       "      <td>1</td>\n",
       "      <td>9</td>\n",
       "    </tr>\n",
       "    <tr>\n",
       "      <th>2</th>\n",
       "      <td>Master</td>\n",
       "      <td>3</td>\n",
       "      <td>0</td>\n",
       "      <td>17</td>\n",
       "    </tr>\n",
       "    <tr>\n",
       "      <th>3</th>\n",
       "      <td>Master</td>\n",
       "      <td>3</td>\n",
       "      <td>1</td>\n",
       "      <td>11</td>\n",
       "    </tr>\n",
       "    <tr>\n",
       "      <th>4</th>\n",
       "      <td>Miss</td>\n",
       "      <td>1</td>\n",
       "      <td>1</td>\n",
       "      <td>46</td>\n",
       "    </tr>\n",
       "    <tr>\n",
       "      <th>5</th>\n",
       "      <td>Miss</td>\n",
       "      <td>1</td>\n",
       "      <td>0</td>\n",
       "      <td>2</td>\n",
       "    </tr>\n",
       "    <tr>\n",
       "      <th>6</th>\n",
       "      <td>Miss</td>\n",
       "      <td>2</td>\n",
       "      <td>1</td>\n",
       "      <td>33</td>\n",
       "    </tr>\n",
       "    <tr>\n",
       "      <th>7</th>\n",
       "      <td>Miss</td>\n",
       "      <td>2</td>\n",
       "      <td>0</td>\n",
       "      <td>2</td>\n",
       "    </tr>\n",
       "    <tr>\n",
       "      <th>8</th>\n",
       "      <td>Miss</td>\n",
       "      <td>3</td>\n",
       "      <td>0</td>\n",
       "      <td>51</td>\n",
       "    </tr>\n",
       "    <tr>\n",
       "      <th>9</th>\n",
       "      <td>Miss</td>\n",
       "      <td>3</td>\n",
       "      <td>1</td>\n",
       "      <td>51</td>\n",
       "    </tr>\n",
       "    <tr>\n",
       "      <th>10</th>\n",
       "      <td>Mr</td>\n",
       "      <td>1</td>\n",
       "      <td>0</td>\n",
       "      <td>70</td>\n",
       "    </tr>\n",
       "    <tr>\n",
       "      <th>11</th>\n",
       "      <td>Mr</td>\n",
       "      <td>1</td>\n",
       "      <td>1</td>\n",
       "      <td>37</td>\n",
       "    </tr>\n",
       "    <tr>\n",
       "      <th>12</th>\n",
       "      <td>Mr</td>\n",
       "      <td>2</td>\n",
       "      <td>0</td>\n",
       "      <td>83</td>\n",
       "    </tr>\n",
       "    <tr>\n",
       "      <th>13</th>\n",
       "      <td>Mr</td>\n",
       "      <td>2</td>\n",
       "      <td>1</td>\n",
       "      <td>8</td>\n",
       "    </tr>\n",
       "    <tr>\n",
       "      <th>14</th>\n",
       "      <td>Mr</td>\n",
       "      <td>3</td>\n",
       "      <td>0</td>\n",
       "      <td>283</td>\n",
       "    </tr>\n",
       "    <tr>\n",
       "      <th>15</th>\n",
       "      <td>Mr</td>\n",
       "      <td>3</td>\n",
       "      <td>1</td>\n",
       "      <td>36</td>\n",
       "    </tr>\n",
       "    <tr>\n",
       "      <th>16</th>\n",
       "      <td>Mrs</td>\n",
       "      <td>1</td>\n",
       "      <td>1</td>\n",
       "      <td>42</td>\n",
       "    </tr>\n",
       "    <tr>\n",
       "      <th>17</th>\n",
       "      <td>Mrs</td>\n",
       "      <td>1</td>\n",
       "      <td>0</td>\n",
       "      <td>1</td>\n",
       "    </tr>\n",
       "    <tr>\n",
       "      <th>18</th>\n",
       "      <td>Mrs</td>\n",
       "      <td>2</td>\n",
       "      <td>1</td>\n",
       "      <td>37</td>\n",
       "    </tr>\n",
       "    <tr>\n",
       "      <th>19</th>\n",
       "      <td>Mrs</td>\n",
       "      <td>2</td>\n",
       "      <td>0</td>\n",
       "      <td>4</td>\n",
       "    </tr>\n",
       "    <tr>\n",
       "      <th>20</th>\n",
       "      <td>Mrs</td>\n",
       "      <td>3</td>\n",
       "      <td>0</td>\n",
       "      <td>21</td>\n",
       "    </tr>\n",
       "    <tr>\n",
       "      <th>21</th>\n",
       "      <td>Mrs</td>\n",
       "      <td>3</td>\n",
       "      <td>1</td>\n",
       "      <td>21</td>\n",
       "    </tr>\n",
       "    <tr>\n",
       "      <th>22</th>\n",
       "      <td>Rare</td>\n",
       "      <td>1</td>\n",
       "      <td>1</td>\n",
       "      <td>8</td>\n",
       "    </tr>\n",
       "    <tr>\n",
       "      <th>23</th>\n",
       "      <td>Rare</td>\n",
       "      <td>1</td>\n",
       "      <td>0</td>\n",
       "      <td>7</td>\n",
       "    </tr>\n",
       "    <tr>\n",
       "      <th>24</th>\n",
       "      <td>Rare</td>\n",
       "      <td>2</td>\n",
       "      <td>0</td>\n",
       "      <td>8</td>\n",
       "    </tr>\n",
       "  </tbody>\n",
       "</table>\n",
       "</div>"
      ],
      "text/plain": [
       "     Title  Pclass  Survived  Passengers\n",
       "0   Master       1         1           3\n",
       "1   Master       2         1           9\n",
       "2   Master       3         0          17\n",
       "3   Master       3         1          11\n",
       "4     Miss       1         1          46\n",
       "5     Miss       1         0           2\n",
       "6     Miss       2         1          33\n",
       "7     Miss       2         0           2\n",
       "8     Miss       3         0          51\n",
       "9     Miss       3         1          51\n",
       "10      Mr       1         0          70\n",
       "11      Mr       1         1          37\n",
       "12      Mr       2         0          83\n",
       "13      Mr       2         1           8\n",
       "14      Mr       3         0         283\n",
       "15      Mr       3         1          36\n",
       "16     Mrs       1         1          42\n",
       "17     Mrs       1         0           1\n",
       "18     Mrs       2         1          37\n",
       "19     Mrs       2         0           4\n",
       "20     Mrs       3         0          21\n",
       "21     Mrs       3         1          21\n",
       "22    Rare       1         1           8\n",
       "23    Rare       1         0           7\n",
       "24    Rare       2         0           8"
      ]
     },
     "execution_count": 36,
     "metadata": {},
     "output_type": "execute_result"
    }
   ],
   "source": [
    "tmp = train_df.groupby(['Title', 'Pclass'])['Survived'].value_counts()\n",
    "df = pd.DataFrame(data={'Passengers': tmp.values}, index=tmp.index).reset_index()\n",
    "df"
   ]
  },
  {
   "cell_type": "code",
   "execution_count": 37,
   "metadata": {
    "colab": {},
    "colab_type": "code",
    "id": "L2m5wxFFPYj8"
   },
   "outputs": [],
   "source": [
    "title_mapping = {\"Mr\": 1, \"Miss\": 2, \"Mrs\": 3, \"Master\": 4, \"Rare\": 5}\n",
    "for dataset in all_df:\n",
    "    dataset['Title'] = dataset['Title'].map(title_mapping)"
   ]
  },
  {
   "cell_type": "code",
   "execution_count": 38,
   "metadata": {
    "colab": {},
    "colab_type": "code",
    "id": "abY2poDXPcvl"
   },
   "outputs": [],
   "source": [
    "for dataset in all_df:\n",
    "    dataset.loc[ dataset['Fare'] <= 7.91, 'Fare'] = 0\n",
    "    dataset.loc[(dataset['Fare'] > 7.91) & (dataset['Fare'] <= 14.454), 'Fare'] = 1\n",
    "    dataset.loc[(dataset['Fare'] > 14.454) & (dataset['Fare'] <= 31), 'Fare']   = 2\n",
    "    dataset.loc[ dataset['Fare'] > 31, 'Fare'] = 3"
   ]
  },
  {
   "cell_type": "code",
   "execution_count": 39,
   "metadata": {
    "colab": {},
    "colab_type": "code",
    "id": "dt1yw8kSPlXN"
   },
   "outputs": [],
   "source": [
    "for dataset in all_df:\n",
    "    dataset.loc[ dataset['Age'] <= 16, 'Age']  = 0\n",
    "    dataset.loc[(dataset['Age'] > 16) & (dataset['Age'] <= 32), 'Age'] = 1\n",
    "    dataset.loc[(dataset['Age'] > 32) & (dataset['Age'] <= 48), 'Age'] = 2\n",
    "    dataset.loc[(dataset['Age'] > 48) & (dataset['Age'] <= 64), 'Age'] = 3\n",
    "    dataset.loc[ dataset['Age'] > 64, 'Age'] = 4"
   ]
  },
  {
   "cell_type": "code",
   "execution_count": 40,
   "metadata": {
    "colab": {},
    "colab_type": "code",
    "id": "2kVPIumVPxPb"
   },
   "outputs": [],
   "source": [
    "for dataset in all_df:\n",
    "    dataset.loc[ dataset['FamilySize'] <= 1, 'FamilySize'] = 0\n",
    "    dataset.loc[(dataset['FamilySize'] > 1) & (dataset['FamilySize'] <= 4), 'FamilySize'] = 1\n",
    "    dataset.loc[ dataset['FamilySize'] > 4, 'FamilySize'] = 2"
   ]
  },
  {
   "cell_type": "code",
   "execution_count": 41,
   "metadata": {
    "colab": {},
    "colab_type": "code",
    "id": "v5hpI85qP2Lx"
   },
   "outputs": [],
   "source": [
    "for dataset in all_df:\n",
    "    dataset['Class*Age'] = dataset['Pclass'] * dataset['Age']"
   ]
  },
  {
   "cell_type": "code",
   "execution_count": 42,
   "metadata": {
    "colab": {
     "base_uri": "https://localhost:8080/",
     "height": 315
    },
    "colab_type": "code",
    "id": "YuK_FiPPP4Ka",
    "outputId": "b21aad74-bbf2-4ecf-e07f-d6c4f5e10a8b"
   },
   "outputs": [
    {
     "data": {
      "text/html": [
       "<div>\n",
       "<style scoped>\n",
       "    .dataframe tbody tr th:only-of-type {\n",
       "        vertical-align: middle;\n",
       "    }\n",
       "\n",
       "    .dataframe tbody tr th {\n",
       "        vertical-align: top;\n",
       "    }\n",
       "\n",
       "    .dataframe thead th {\n",
       "        text-align: right;\n",
       "    }\n",
       "</style>\n",
       "<table border=\"1\" class=\"dataframe\">\n",
       "  <thead>\n",
       "    <tr style=\"text-align: right;\">\n",
       "      <th></th>\n",
       "      <th>PassengerId</th>\n",
       "      <th>Survived</th>\n",
       "      <th>Pclass</th>\n",
       "      <th>Name</th>\n",
       "      <th>Sex</th>\n",
       "      <th>Age</th>\n",
       "      <th>SibSp</th>\n",
       "      <th>Parch</th>\n",
       "      <th>Ticket</th>\n",
       "      <th>Fare</th>\n",
       "      <th>Cabin</th>\n",
       "      <th>Embarked</th>\n",
       "      <th>Title</th>\n",
       "      <th>FamilySize</th>\n",
       "      <th>Surname</th>\n",
       "      <th>Deck</th>\n",
       "      <th>Class*Age</th>\n",
       "    </tr>\n",
       "  </thead>\n",
       "  <tbody>\n",
       "    <tr>\n",
       "      <th>0</th>\n",
       "      <td>1</td>\n",
       "      <td>0</td>\n",
       "      <td>3</td>\n",
       "      <td>Braund, Mr. Owen Harris</td>\n",
       "      <td>0</td>\n",
       "      <td>1</td>\n",
       "      <td>1</td>\n",
       "      <td>0</td>\n",
       "      <td>A/5 21171</td>\n",
       "      <td>0.0</td>\n",
       "      <td>NaN</td>\n",
       "      <td>S</td>\n",
       "      <td>1</td>\n",
       "      <td>1</td>\n",
       "      <td>Braund</td>\n",
       "      <td>NaN</td>\n",
       "      <td>3</td>\n",
       "    </tr>\n",
       "    <tr>\n",
       "      <th>1</th>\n",
       "      <td>2</td>\n",
       "      <td>1</td>\n",
       "      <td>1</td>\n",
       "      <td>Cumings, Mrs. John Bradley (Florence Briggs Th...</td>\n",
       "      <td>1</td>\n",
       "      <td>2</td>\n",
       "      <td>1</td>\n",
       "      <td>0</td>\n",
       "      <td>PC 17599</td>\n",
       "      <td>3.0</td>\n",
       "      <td>C85</td>\n",
       "      <td>C</td>\n",
       "      <td>3</td>\n",
       "      <td>1</td>\n",
       "      <td>Cumings</td>\n",
       "      <td>C</td>\n",
       "      <td>2</td>\n",
       "    </tr>\n",
       "    <tr>\n",
       "      <th>2</th>\n",
       "      <td>3</td>\n",
       "      <td>1</td>\n",
       "      <td>3</td>\n",
       "      <td>Heikkinen, Miss. Laina</td>\n",
       "      <td>1</td>\n",
       "      <td>1</td>\n",
       "      <td>0</td>\n",
       "      <td>0</td>\n",
       "      <td>STON/O2. 3101282</td>\n",
       "      <td>1.0</td>\n",
       "      <td>NaN</td>\n",
       "      <td>S</td>\n",
       "      <td>2</td>\n",
       "      <td>0</td>\n",
       "      <td>Heikkinen</td>\n",
       "      <td>NaN</td>\n",
       "      <td>3</td>\n",
       "    </tr>\n",
       "  </tbody>\n",
       "</table>\n",
       "</div>"
      ],
      "text/plain": [
       "   PassengerId  Survived  Pclass  \\\n",
       "0            1         0       3   \n",
       "1            2         1       1   \n",
       "2            3         1       3   \n",
       "\n",
       "                                                Name  Sex  Age  SibSp  Parch  \\\n",
       "0                            Braund, Mr. Owen Harris    0    1      1      0   \n",
       "1  Cumings, Mrs. John Bradley (Florence Briggs Th...    1    2      1      0   \n",
       "2                             Heikkinen, Miss. Laina    1    1      0      0   \n",
       "\n",
       "             Ticket  Fare Cabin Embarked  Title  FamilySize    Surname Deck  \\\n",
       "0         A/5 21171   0.0   NaN        S      1           1     Braund  NaN   \n",
       "1          PC 17599   3.0   C85        C      3           1    Cumings    C   \n",
       "2  STON/O2. 3101282   1.0   NaN        S      2           0  Heikkinen  NaN   \n",
       "\n",
       "   Class*Age  \n",
       "0          3  \n",
       "1          2  \n",
       "2          3  "
      ]
     },
     "execution_count": 42,
     "metadata": {},
     "output_type": "execute_result"
    }
   ],
   "source": [
    "train_df.head(3)"
   ]
  },
  {
   "cell_type": "code",
   "execution_count": 43,
   "metadata": {
    "colab": {
     "base_uri": "https://localhost:8080/",
     "height": 315
    },
    "colab_type": "code",
    "id": "1r-UYJg_P_iU",
    "outputId": "7b2eb2f1-e654-4866-ec29-d2e9bd388441"
   },
   "outputs": [
    {
     "data": {
      "text/html": [
       "<div>\n",
       "<style scoped>\n",
       "    .dataframe tbody tr th:only-of-type {\n",
       "        vertical-align: middle;\n",
       "    }\n",
       "\n",
       "    .dataframe tbody tr th {\n",
       "        vertical-align: top;\n",
       "    }\n",
       "\n",
       "    .dataframe thead th {\n",
       "        text-align: right;\n",
       "    }\n",
       "</style>\n",
       "<table border=\"1\" class=\"dataframe\">\n",
       "  <thead>\n",
       "    <tr style=\"text-align: right;\">\n",
       "      <th></th>\n",
       "      <th>PassengerId</th>\n",
       "      <th>Pclass</th>\n",
       "      <th>Name</th>\n",
       "      <th>Sex</th>\n",
       "      <th>Age</th>\n",
       "      <th>SibSp</th>\n",
       "      <th>Parch</th>\n",
       "      <th>Ticket</th>\n",
       "      <th>Fare</th>\n",
       "      <th>Cabin</th>\n",
       "      <th>Embarked</th>\n",
       "      <th>Title</th>\n",
       "      <th>FamilySize</th>\n",
       "      <th>Surname</th>\n",
       "      <th>Deck</th>\n",
       "      <th>Class*Age</th>\n",
       "    </tr>\n",
       "  </thead>\n",
       "  <tbody>\n",
       "    <tr>\n",
       "      <th>0</th>\n",
       "      <td>892</td>\n",
       "      <td>3</td>\n",
       "      <td>Kelly, Mr. James</td>\n",
       "      <td>0</td>\n",
       "      <td>2</td>\n",
       "      <td>0</td>\n",
       "      <td>0</td>\n",
       "      <td>330911</td>\n",
       "      <td>0.0</td>\n",
       "      <td>NaN</td>\n",
       "      <td>Q</td>\n",
       "      <td>1</td>\n",
       "      <td>0</td>\n",
       "      <td>Kelly</td>\n",
       "      <td>NaN</td>\n",
       "      <td>6</td>\n",
       "    </tr>\n",
       "    <tr>\n",
       "      <th>1</th>\n",
       "      <td>893</td>\n",
       "      <td>3</td>\n",
       "      <td>Wilkes, Mrs. James (Ellen Needs)</td>\n",
       "      <td>1</td>\n",
       "      <td>2</td>\n",
       "      <td>1</td>\n",
       "      <td>0</td>\n",
       "      <td>363272</td>\n",
       "      <td>0.0</td>\n",
       "      <td>NaN</td>\n",
       "      <td>S</td>\n",
       "      <td>3</td>\n",
       "      <td>1</td>\n",
       "      <td>Wilkes</td>\n",
       "      <td>NaN</td>\n",
       "      <td>6</td>\n",
       "    </tr>\n",
       "    <tr>\n",
       "      <th>2</th>\n",
       "      <td>894</td>\n",
       "      <td>2</td>\n",
       "      <td>Myles, Mr. Thomas Francis</td>\n",
       "      <td>0</td>\n",
       "      <td>3</td>\n",
       "      <td>0</td>\n",
       "      <td>0</td>\n",
       "      <td>240276</td>\n",
       "      <td>1.0</td>\n",
       "      <td>NaN</td>\n",
       "      <td>Q</td>\n",
       "      <td>1</td>\n",
       "      <td>0</td>\n",
       "      <td>Myles</td>\n",
       "      <td>NaN</td>\n",
       "      <td>6</td>\n",
       "    </tr>\n",
       "  </tbody>\n",
       "</table>\n",
       "</div>"
      ],
      "text/plain": [
       "   PassengerId  Pclass                              Name  Sex  Age  SibSp  \\\n",
       "0          892       3                  Kelly, Mr. James    0    2      0   \n",
       "1          893       3  Wilkes, Mrs. James (Ellen Needs)    1    2      1   \n",
       "2          894       2         Myles, Mr. Thomas Francis    0    3      0   \n",
       "\n",
       "   Parch  Ticket  Fare Cabin Embarked  Title  FamilySize Surname Deck  \\\n",
       "0      0  330911   0.0   NaN        Q      1           0   Kelly  NaN   \n",
       "1      0  363272   0.0   NaN        S      3           1  Wilkes  NaN   \n",
       "2      0  240276   1.0   NaN        Q      1           0   Myles  NaN   \n",
       "\n",
       "   Class*Age  \n",
       "0          6  \n",
       "1          6  \n",
       "2          6  "
      ]
     },
     "execution_count": 43,
     "metadata": {},
     "output_type": "execute_result"
    }
   ],
   "source": [
    "test_df.head(3)"
   ]
  },
  {
   "cell_type": "code",
   "execution_count": 44,
   "metadata": {
    "colab": {},
    "colab_type": "code",
    "id": "HEVNvKgqQFWQ"
   },
   "outputs": [],
   "source": [
    "train, valid = train_test_split(train_df, test_size=0.2, random_state=42, shuffle=True )"
   ]
  },
  {
   "cell_type": "code",
   "execution_count": 45,
   "metadata": {
    "colab": {},
    "colab_type": "code",
    "id": "SRXyd1J-Q-uZ"
   },
   "outputs": [],
   "source": [
    "predictors = ['FamilySize', 'Title', 'Class*Age']\n",
    "target = 'Survived'"
   ]
  },
  {
   "cell_type": "code",
   "execution_count": 46,
   "metadata": {
    "colab": {},
    "colab_type": "code",
    "id": "phf4M2TrRkB-"
   },
   "outputs": [],
   "source": [
    "clf = RandomForestClassifier(n_jobs=4, \n",
    "                             random_state=42,\n",
    "                             criterion='gini',\n",
    "                             n_estimators=100,\n",
    "                             verbose=False)"
   ]
  },
  {
   "cell_type": "code",
   "execution_count": 47,
   "metadata": {
    "colab": {},
    "colab_type": "code",
    "id": "d_j7OwBAROBK"
   },
   "outputs": [],
   "source": [
    "train_X = train[predictors]\n",
    "train_Y = train[target].values\n",
    "valid_X = valid[predictors]\n",
    "valid_Y = valid[target].values"
   ]
  },
  {
   "cell_type": "code",
   "execution_count": 48,
   "metadata": {
    "colab": {},
    "colab_type": "code",
    "id": "JZZte44NRP1W"
   },
   "outputs": [],
   "source": [
    "rf_clf = clf.fit(train_X, train_Y)"
   ]
  },
  {
   "cell_type": "code",
   "execution_count": 49,
   "metadata": {
    "colab": {
     "base_uri": "https://localhost:8080/",
     "height": 136
    },
    "colab_type": "code",
    "id": "wTO7_nIsRXQK",
    "outputId": "0d29d8cb-8f50-4afd-a137-60632f9255de"
   },
   "outputs": [
    {
     "data": {
      "text/plain": [
       "RandomForestClassifier(bootstrap=True, class_weight=None, criterion='gini',\n",
       "            max_depth=None, max_features='auto', max_leaf_nodes=None,\n",
       "            min_impurity_decrease=0.0, min_impurity_split=None,\n",
       "            min_samples_leaf=1, min_samples_split=2,\n",
       "            min_weight_fraction_leaf=0.0, n_estimators=100, n_jobs=4,\n",
       "            oob_score=False, random_state=42, verbose=False,\n",
       "            warm_start=False)"
      ]
     },
     "execution_count": 49,
     "metadata": {},
     "output_type": "execute_result"
    }
   ],
   "source": [
    "rf_clf"
   ]
  },
  {
   "cell_type": "code",
   "execution_count": 50,
   "metadata": {
    "colab": {},
    "colab_type": "code",
    "id": "YV9X2PMtR4sG"
   },
   "outputs": [],
   "source": [
    "preds = clf.predict(valid_X)"
   ]
  },
  {
   "cell_type": "code",
   "execution_count": 51,
   "metadata": {
    "colab": {},
    "colab_type": "code",
    "id": "B4O0t3YUSHnV"
   },
   "outputs": [],
   "source": [
    "def plot_feature_importance():\n",
    "    tmp = pd.DataFrame({'Feature': predictors, 'Feature importance': clf.feature_importances_})\n",
    "    tmp = tmp.sort_values(by='Feature importance',ascending=False)\n",
    "    plt.figure(figsize = (7,4))\n",
    "    plt.title('Features importance',fontsize=14)\n",
    "    s = sns.barplot(x='Feature',y='Feature importance',data=tmp)\n",
    "    s.set_xticklabels(s.get_xticklabels(),rotation=90)\n",
    "    plt.show()   "
   ]
  },
  {
   "cell_type": "code",
   "execution_count": 52,
   "metadata": {
    "colab": {
     "base_uri": "https://localhost:8080/",
     "height": 403
    },
    "colab_type": "code",
    "id": "1SC-wUbTR7l0",
    "outputId": "33b12f32-793a-4013-b6e2-3f6a96084590"
   },
   "outputs": [
    {
     "data": {
      "image/png": "[encoded data removed]",
      "text/plain": [
       "<Figure size 504x288 with 1 Axes>"
      ]
     },
     "metadata": {
      "needs_background": "light"
     },
     "output_type": "display_data"
    }
   ],
   "source": [
    "plot_feature_importance()"
   ]
  },
  {
   "cell_type": "code",
   "execution_count": 53,
   "metadata": {
    "colab": {
     "base_uri": "https://localhost:8080/",
     "height": 34
    },
    "colab_type": "code",
    "id": "T9s3ij00R9Qd",
    "outputId": "f54ddb09-8e39-4186-abf6-73d6bff272b2"
   },
   "outputs": [
    {
     "name": "stdout",
     "output_type": "stream",
     "text": [
      "RandomForest accuracy (train set): 84.13\n"
     ]
    }
   ],
   "source": [
    "clf.score(train_X, train_Y)\n",
    "acc = round(clf.score(train_X, train_Y) * 100, 2)\n",
    "print(\"RandomForest accuracy (train set):\", acc)"
   ]
  },
  {
   "cell_type": "code",
   "execution_count": 54,
   "metadata": {
    "colab": {
     "base_uri": "https://localhost:8080/",
     "height": 34
    },
    "colab_type": "code",
    "id": "VjTlE075SQKz",
    "outputId": "0dc89fa4-372d-413c-eed5-a007c9b4e388"
   },
   "outputs": [
    {
     "name": "stdout",
     "output_type": "stream",
     "text": [
      "RandomForest accuracy (validation set): 81.56\n"
     ]
    }
   ],
   "source": [
    "clf.score(valid_X, valid_Y)\n",
    "acc = round(clf.score(valid_X, valid_Y) * 100, 2)\n",
    "print(\"RandomForest accuracy (validation set):\", acc)"
   ]
  },
  {
   "cell_type": "code",
   "execution_count": 55,
   "metadata": {
    "colab": {
     "base_uri": "https://localhost:8080/",
     "height": 170
    },
    "colab_type": "code",
    "id": "-oLRAJLaSaMl",
    "outputId": "e9023da6-e8eb-4832-ec75-cdceb4ac4b94"
   },
   "outputs": [
    {
     "name": "stdout",
     "output_type": "stream",
     "text": [
      "              precision    recall  f1-score   support\n",
      "\n",
      "Not Survived       0.82      0.88      0.85       105\n",
      "    Survived       0.81      0.73      0.77        74\n",
      "\n",
      "   micro avg       0.82      0.82      0.82       179\n",
      "   macro avg       0.81      0.80      0.81       179\n",
      "weighted avg       0.82      0.82      0.81       179\n",
      "\n"
     ]
    }
   ],
   "source": [
    "print(metrics.classification_report(valid_Y, preds, target_names=['Not Survived', 'Survived']))"
   ]
  },
  {
   "cell_type": "markdown",
   "metadata": {
    "colab_type": "text",
    "id": "KkmLY-vfSr4Y"
   },
   "source": [
    "# Submission"
   ]
  },
  {
   "cell_type": "code",
   "execution_count": 56,
   "metadata": {
    "colab": {},
    "colab_type": "code",
    "id": "xpt-a3JOSiTa"
   },
   "outputs": [],
   "source": [
    "test_X = test_df[predictors]\n",
    "pred_Y = clf.predict(test_X)"
   ]
  },
  {
   "cell_type": "code",
   "execution_count": 57,
   "metadata": {
    "colab": {},
    "colab_type": "code",
    "id": "fazZSiq6Supm"
   },
   "outputs": [],
   "source": [
    "submission = pd.DataFrame({\"PassengerId\": test_df[\"PassengerId\"],\"Survived\": pred_Y})\n",
    "submission.to_csv('submission.csv', index=False)"
   ]
  }
 ],
 "metadata": {
  "colab": {
   "name": "Kaggle Titanic Survive.ipynb",
   "provenance": [],
   "version": "0.3.2"
  },
  "kernelspec": {
   "display_name": "Python 3",
   "language": "python",
   "name": "python3"
  },
  "language_info": {
   "codemirror_mode": {
    "name": "ipython",
    "version": 3
   },
   "file_extension": ".py",
   "mimetype": "text/x-python",
   "name": "python",
   "nbconvert_exporter": "python",
   "pygments_lexer": "ipython3",
   "version": "3.7.1"
  }
 },
 "nbformat": 4,
 "nbformat_minor": 1
}
